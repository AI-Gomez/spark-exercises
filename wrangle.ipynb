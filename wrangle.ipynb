{
 "cells": [
  {
   "cell_type": "code",
   "execution_count": 1,
   "metadata": {},
   "outputs": [],
   "source": [
    "from pyspark.sql import SparkSession\n",
    "from pyspark.sql.functions import *\n",
    "\n",
    "spark = SparkSession.builder.getOrCreate()"
   ]
  },
  {
   "cell_type": "code",
   "execution_count": 2,
   "metadata": {},
   "outputs": [
    {
     "name": "stdout",
     "output_type": "stream",
     "text": [
      "root\n",
      " |-- source_id: string (nullable = true)\n",
      " |-- source_username: string (nullable = true)\n",
      "\n",
      "+---------+--------------------+\n",
      "|source_id|     source_username|\n",
      "+---------+--------------------+\n",
      "|   100137|    Merlene Blodgett|\n",
      "|   103582|         Carmen Cura|\n",
      "|   106463|     Richard Sanchez|\n",
      "|   119403|      Betty De Hoyos|\n",
      "|   119555|      Socorro Quiara|\n",
      "|   119868| Michelle San Miguel|\n",
      "|   120752|      Eva T. Kleiber|\n",
      "|   124405|           Lori Lara|\n",
      "|   132408|       Leonard Silva|\n",
      "|   135723|        Amy Cardenas|\n",
      "|   136202|    Michelle Urrutia|\n",
      "|   136979|      Leticia Garcia|\n",
      "|   137943|    Pamela K. Baccus|\n",
      "|   138605|        Marisa Ozuna|\n",
      "|   138650|      Kimberly Green|\n",
      "|   138650|Kimberly Green-Woods|\n",
      "|   138793| Guadalupe Rodriguez|\n",
      "|   138810|       Tawona Martin|\n",
      "|   139342|     Jessica Mendoza|\n",
      "|   139344|        Isis Mendoza|\n",
      "+---------+--------------------+\n",
      "only showing top 20 rows\n",
      "\n"
     ]
    }
   ],
   "source": [
    "df = spark.read.csv(\"data/source.csv\", header=True, inferSchema=True)\n",
    "df.printSchema()\n",
    "df.show()\n"
   ]
  },
  {
   "cell_type": "code",
   "execution_count": 3,
   "metadata": {},
   "outputs": [
    {
     "name": "stdout",
     "output_type": "stream",
     "text": [
      "+---------+--------------------+\n",
      "|source_id|     source_username|\n",
      "+---------+--------------------+\n",
      "|   100137|    Merlene Blodgett|\n",
      "|   103582|         Carmen Cura|\n",
      "|   106463|     Richard Sanchez|\n",
      "|   119403|      Betty De Hoyos|\n",
      "|   119555|      Socorro Quiara|\n",
      "|   119868| Michelle San Miguel|\n",
      "|   120752|      Eva T. Kleiber|\n",
      "|   124405|           Lori Lara|\n",
      "|   132408|       Leonard Silva|\n",
      "|   135723|        Amy Cardenas|\n",
      "|   136202|    Michelle Urrutia|\n",
      "|   136979|      Leticia Garcia|\n",
      "|   137943|    Pamela K. Baccus|\n",
      "|   138605|        Marisa Ozuna|\n",
      "|   138650|      Kimberly Green|\n",
      "|   138650|Kimberly Green-Woods|\n",
      "|   138793| Guadalupe Rodriguez|\n",
      "|   138810|       Tawona Martin|\n",
      "|   139342|     Jessica Mendoza|\n",
      "|   139344|        Isis Mendoza|\n",
      "+---------+--------------------+\n",
      "only showing top 20 rows\n",
      "\n"
     ]
    }
   ],
   "source": [
    "from pyspark.sql.types import StructType, StructField, StringType\n",
    "\n",
    "schema = StructType([\n",
    "    StructField(\"source_id\", StringType()),\n",
    "    StructField(\"source_username\", StringType()),\n",
    "])\n",
    "\n",
    "df = spark.read.csv(\"data/source.csv\", header=True, schema=schema)\n",
    "df.show()"
   ]
  },
  {
   "cell_type": "code",
   "execution_count": 4,
   "metadata": {},
   "outputs": [],
   "source": [
    "df.write.json(\"spark-json\")"
   ]
  },
  {
   "cell_type": "code",
   "execution_count": 5,
   "metadata": {},
   "outputs": [
    {
     "name": "stdout",
     "output_type": "stream",
     "text": [
      "root\n",
      " |-- case_id: integer (nullable = true)\n",
      " |-- case_opened_date: string (nullable = true)\n",
      " |-- case_closed_date: string (nullable = true)\n",
      " |-- SLA_due_date: string (nullable = true)\n",
      " |-- case_late: string (nullable = true)\n",
      " |-- num_days_late: double (nullable = true)\n",
      " |-- case_closed: string (nullable = true)\n",
      " |-- dept_division: string (nullable = true)\n",
      " |-- service_request_type: string (nullable = true)\n",
      " |-- SLA_days: double (nullable = true)\n",
      " |-- case_status: string (nullable = true)\n",
      " |-- source_id: string (nullable = true)\n",
      " |-- request_address: string (nullable = true)\n",
      " |-- council_district: integer (nullable = true)\n",
      "\n",
      "-RECORD 0------------------------------------\n",
      " case_id              | 1014127332           \n",
      " case_opened_date     | 1/1/18 0:42          \n",
      " case_closed_date     | 1/1/18 12:29         \n",
      " SLA_due_date         | 9/26/20 0:42         \n",
      " case_late            | NO                   \n",
      " num_days_late        | -998.5087616000001   \n",
      " case_closed          | YES                  \n",
      " dept_division        | Field Operations     \n",
      " service_request_type | Stray Animal         \n",
      " SLA_days             | 999.0                \n",
      " case_status          | Closed               \n",
      " source_id            | svcCRMLS             \n",
      " request_address      | 2315  EL PASO ST,... \n",
      " council_district     | 5                    \n",
      "-RECORD 1------------------------------------\n",
      " case_id              | 1014127333           \n",
      " case_opened_date     | 1/1/18 0:46          \n",
      " case_closed_date     | 1/3/18 8:11          \n",
      " SLA_due_date         | 1/5/18 8:30          \n",
      " case_late            | NO                   \n",
      " num_days_late        | -2.0126041669999997  \n",
      " case_closed          | YES                  \n",
      " dept_division        | Storm Water          \n",
      " service_request_type | Removal Of Obstru... \n",
      " SLA_days             | 4.322222222          \n",
      " case_status          | Closed               \n",
      " source_id            | svcCRMSS             \n",
      " request_address      | 2215  GOLIAD RD, ... \n",
      " council_district     | 3                    \n",
      "-RECORD 2------------------------------------\n",
      " case_id              | 1014127334           \n",
      " case_opened_date     | 1/1/18 0:48          \n",
      " case_closed_date     | 1/2/18 7:57          \n",
      " SLA_due_date         | 1/5/18 8:30          \n",
      " case_late            | NO                   \n",
      " num_days_late        | -3.022337963         \n",
      " case_closed          | YES                  \n",
      " dept_division        | Storm Water          \n",
      " service_request_type | Removal Of Obstru... \n",
      " SLA_days             | 4.320729167          \n",
      " case_status          | Closed               \n",
      " source_id            | svcCRMSS             \n",
      " request_address      | 102  PALFREY ST W... \n",
      " council_district     | 3                    \n",
      "-RECORD 3------------------------------------\n",
      " case_id              | 1014127335           \n",
      " case_opened_date     | 1/1/18 1:29          \n",
      " case_closed_date     | 1/2/18 8:13          \n",
      " SLA_due_date         | 1/17/18 8:30         \n",
      " case_late            | NO                   \n",
      " num_days_late        | -15.01148148         \n",
      " case_closed          | YES                  \n",
      " dept_division        | Code Enforcement     \n",
      " service_request_type | Front Or Side Yar... \n",
      " SLA_days             | 16.29188657          \n",
      " case_status          | Closed               \n",
      " source_id            | svcCRMSS             \n",
      " request_address      | 114  LA GARDE ST,... \n",
      " council_district     | 3                    \n",
      "-RECORD 4------------------------------------\n",
      " case_id              | 1014127336           \n",
      " case_opened_date     | 1/1/18 1:34          \n",
      " case_closed_date     | 1/1/18 13:29         \n",
      " SLA_due_date         | 1/1/18 4:34          \n",
      " case_late            | YES                  \n",
      " num_days_late        | 0.37216435200000003  \n",
      " case_closed          | YES                  \n",
      " dept_division        | Field Operations     \n",
      " service_request_type | Animal Cruelty(Cr... \n",
      " SLA_days             | 0.125                \n",
      " case_status          | Closed               \n",
      " source_id            | svcCRMSS             \n",
      " request_address      | 734  CLEARVIEW DR... \n",
      " council_district     | 7                    \n",
      "only showing top 5 rows\n",
      "\n"
     ]
    }
   ],
   "source": [
    "df = spark.read.csv('data/case.csv', header=True, inferSchema=True)\n",
    "df.printSchema()\n",
    "df.show(5, vertical=True)"
   ]
  },
  {
   "cell_type": "code",
   "execution_count": 6,
   "metadata": {},
   "outputs": [],
   "source": [
    "df = df.withColumnRenamed(\"SLA_due_date\", \"case_due_date\")"
   ]
  },
  {
   "cell_type": "code",
   "execution_count": 7,
   "metadata": {},
   "outputs": [
    {
     "name": "stdout",
     "output_type": "stream",
     "text": [
      "== Physical Plan ==\n",
      "*(1) Project [case_id#66, case_opened_date#67, case_closed_date#68, SLA_due_date#69 AS case_due_date#165, case_late#70, num_days_late#71, case_closed#72, dept_division#73, service_request_type#74, SLA_days#75, case_status#76, source_id#77, request_address#78, council_district#79]\n",
      "+- FileScan csv [case_id#66,case_opened_date#67,case_closed_date#68,SLA_due_date#69,case_late#70,num_days_late#71,case_closed#72,dept_division#73,service_request_type#74,SLA_days#75,case_status#76,source_id#77,request_address#78,council_district#79] Batched: false, DataFilters: [], Format: CSV, Location: InMemoryFileIndex[file:/Users/cryptobandido/codeup-data-science/spark-exercises/data/case.csv], PartitionFilters: [], PushedFilters: [], ReadSchema: struct<case_id:int,case_opened_date:string,case_closed_date:string,SLA_due_date:string,case_late:...\n",
      "\n",
      "\n"
     ]
    }
   ],
   "source": [
    "df.explain()"
   ]
  },
  {
   "cell_type": "code",
   "execution_count": 8,
   "metadata": {},
   "outputs": [
    {
     "name": "stdout",
     "output_type": "stream",
     "text": [
      "+---------+-----------+------+\n",
      "|case_late|case_closed| count|\n",
      "+---------+-----------+------+\n",
      "|       NO|        YES|735616|\n",
      "|      YES|        YES| 87978|\n",
      "|       NO|         NO| 11585|\n",
      "|      YES|         NO|  6525|\n",
      "+---------+-----------+------+\n",
      "\n"
     ]
    }
   ],
   "source": [
    "df.groupby('case_late', 'case_closed').count().show()"
   ]
  },
  {
   "cell_type": "code",
   "execution_count": 9,
   "metadata": {},
   "outputs": [],
   "source": [
    "df = df.withColumn(\"case_late\", expr(\"case_late == 'YES'\"))"
   ]
  },
  {
   "cell_type": "code",
   "execution_count": 10,
   "metadata": {},
   "outputs": [],
   "source": [
    "df = df.withColumn(\"case_closed\", expr(\"case_closed == 'YES'\"))"
   ]
  },
  {
   "cell_type": "code",
   "execution_count": 11,
   "metadata": {},
   "outputs": [
    {
     "name": "stdout",
     "output_type": "stream",
     "text": [
      "root\n",
      " |-- case_id: integer (nullable = true)\n",
      " |-- case_opened_date: string (nullable = true)\n",
      " |-- case_closed_date: string (nullable = true)\n",
      " |-- case_due_date: string (nullable = true)\n",
      " |-- case_late: boolean (nullable = true)\n",
      " |-- num_days_late: double (nullable = true)\n",
      " |-- case_closed: boolean (nullable = true)\n",
      " |-- dept_division: string (nullable = true)\n",
      " |-- service_request_type: string (nullable = true)\n",
      " |-- SLA_days: double (nullable = true)\n",
      " |-- case_status: string (nullable = true)\n",
      " |-- source_id: string (nullable = true)\n",
      " |-- request_address: string (nullable = true)\n",
      " |-- council_district: integer (nullable = true)\n",
      "\n",
      "-RECORD 0------------------------------------\n",
      " case_id              | 1014127332           \n",
      " case_opened_date     | 1/1/18 0:42          \n",
      " case_closed_date     | 1/1/18 12:29         \n",
      " case_due_date        | 9/26/20 0:42         \n",
      " case_late            | false                \n",
      " num_days_late        | -998.5087616000001   \n",
      " case_closed          | true                 \n",
      " dept_division        | Field Operations     \n",
      " service_request_type | Stray Animal         \n",
      " SLA_days             | 999.0                \n",
      " case_status          | Closed               \n",
      " source_id            | svcCRMLS             \n",
      " request_address      | 2315  EL PASO ST,... \n",
      " council_district     | 5                    \n",
      "-RECORD 1------------------------------------\n",
      " case_id              | 1014127333           \n",
      " case_opened_date     | 1/1/18 0:46          \n",
      " case_closed_date     | 1/3/18 8:11          \n",
      " case_due_date        | 1/5/18 8:30          \n",
      " case_late            | false                \n",
      " num_days_late        | -2.0126041669999997  \n",
      " case_closed          | true                 \n",
      " dept_division        | Storm Water          \n",
      " service_request_type | Removal Of Obstru... \n",
      " SLA_days             | 4.322222222          \n",
      " case_status          | Closed               \n",
      " source_id            | svcCRMSS             \n",
      " request_address      | 2215  GOLIAD RD, ... \n",
      " council_district     | 3                    \n",
      "-RECORD 2------------------------------------\n",
      " case_id              | 1014127334           \n",
      " case_opened_date     | 1/1/18 0:48          \n",
      " case_closed_date     | 1/2/18 7:57          \n",
      " case_due_date        | 1/5/18 8:30          \n",
      " case_late            | false                \n",
      " num_days_late        | -3.022337963         \n",
      " case_closed          | true                 \n",
      " dept_division        | Storm Water          \n",
      " service_request_type | Removal Of Obstru... \n",
      " SLA_days             | 4.320729167          \n",
      " case_status          | Closed               \n",
      " source_id            | svcCRMSS             \n",
      " request_address      | 102  PALFREY ST W... \n",
      " council_district     | 3                    \n",
      "-RECORD 3------------------------------------\n",
      " case_id              | 1014127335           \n",
      " case_opened_date     | 1/1/18 1:29          \n",
      " case_closed_date     | 1/2/18 8:13          \n",
      " case_due_date        | 1/17/18 8:30         \n",
      " case_late            | false                \n",
      " num_days_late        | -15.01148148         \n",
      " case_closed          | true                 \n",
      " dept_division        | Code Enforcement     \n",
      " service_request_type | Front Or Side Yar... \n",
      " SLA_days             | 16.29188657          \n",
      " case_status          | Closed               \n",
      " source_id            | svcCRMSS             \n",
      " request_address      | 114  LA GARDE ST,... \n",
      " council_district     | 3                    \n",
      "-RECORD 4------------------------------------\n",
      " case_id              | 1014127336           \n",
      " case_opened_date     | 1/1/18 1:34          \n",
      " case_closed_date     | 1/1/18 13:29         \n",
      " case_due_date        | 1/1/18 4:34          \n",
      " case_late            | true                 \n",
      " num_days_late        | 0.37216435200000003  \n",
      " case_closed          | true                 \n",
      " dept_division        | Field Operations     \n",
      " service_request_type | Animal Cruelty(Cr... \n",
      " SLA_days             | 0.125                \n",
      " case_status          | Closed               \n",
      " source_id            | svcCRMSS             \n",
      " request_address      | 734  CLEARVIEW DR... \n",
      " council_district     | 7                    \n",
      "only showing top 5 rows\n",
      "\n"
     ]
    }
   ],
   "source": [
    "df.printSchema()\n",
    "df.show(5, vertical=True)"
   ]
  },
  {
   "cell_type": "code",
   "execution_count": 12,
   "metadata": {},
   "outputs": [
    {
     "name": "stdout",
     "output_type": "stream",
     "text": [
      "+----------------+-------------------------------------+\n",
      "|council_district|format_string(%03d, council_district)|\n",
      "+----------------+-------------------------------------+\n",
      "|               5|                                  005|\n",
      "|               3|                                  003|\n",
      "|               3|                                  003|\n",
      "|               3|                                  003|\n",
      "|               7|                                  007|\n",
      "|               7|                                  007|\n",
      "|               4|                                  004|\n",
      "|               4|                                  004|\n",
      "|               4|                                  004|\n",
      "|               4|                                  004|\n",
      "|               4|                                  004|\n",
      "|               4|                                  004|\n",
      "|               4|                                  004|\n",
      "|               4|                                  004|\n",
      "|               4|                                  004|\n",
      "|               4|                                  004|\n",
      "|               4|                                  004|\n",
      "|               4|                                  004|\n",
      "|               4|                                  004|\n",
      "|               4|                                  004|\n",
      "+----------------+-------------------------------------+\n",
      "only showing top 20 rows\n",
      "\n"
     ]
    }
   ],
   "source": [
    "df.select(col('council_district'), format_string(\"%03d\", col(\"council_district\"))).show()"
   ]
  },
  {
   "cell_type": "code",
   "execution_count": 13,
   "metadata": {},
   "outputs": [],
   "source": [
    "df = df.withColumn(\"council_district\", format_string(\"%03d\", col(\"council_district\")))"
   ]
  },
  {
   "cell_type": "code",
   "execution_count": 14,
   "metadata": {},
   "outputs": [
    {
     "name": "stdout",
     "output_type": "stream",
     "text": [
      "== Physical Plan ==\n",
      "*(1) Project [case_id#66, case_opened_date#67, case_closed_date#68, SLA_due_date#69 AS case_due_date#165, (case_late#70 = YES) AS case_late#216, num_days_late#71, (case_closed#72 = YES) AS case_closed#231, dept_division#73, service_request_type#74, SLA_days#75, case_status#76, source_id#77, request_address#78, format_string(%03d, council_district#79) AS council_district#330]\n",
      "+- FileScan csv [case_id#66,case_opened_date#67,case_closed_date#68,SLA_due_date#69,case_late#70,num_days_late#71,case_closed#72,dept_division#73,service_request_type#74,SLA_days#75,case_status#76,source_id#77,request_address#78,council_district#79] Batched: false, DataFilters: [], Format: CSV, Location: InMemoryFileIndex[file:/Users/cryptobandido/codeup-data-science/spark-exercises/data/case.csv], PartitionFilters: [], PushedFilters: [], ReadSchema: struct<case_id:int,case_opened_date:string,case_closed_date:string,SLA_due_date:string,case_late:...\n",
      "\n",
      "\n"
     ]
    }
   ],
   "source": [
    "df.explain()\n"
   ]
  },
  {
   "cell_type": "code",
   "execution_count": 15,
   "metadata": {},
   "outputs": [
    {
     "name": "stdout",
     "output_type": "stream",
     "text": [
      "-RECORD 0------------------------------------\n",
      " case_id              | 1014127332           \n",
      " case_opened_date     | 1/1/18 0:42          \n",
      " case_closed_date     | 1/1/18 12:29         \n",
      " case_due_date        | 9/26/20 0:42         \n",
      " case_late            | false                \n",
      " num_days_late        | -998.5087616000001   \n",
      " case_closed          | true                 \n",
      " dept_division        | Field Operations     \n",
      " service_request_type | Stray Animal         \n",
      " SLA_days             | 999.0                \n",
      " case_status          | Closed               \n",
      " source_id            | svcCRMLS             \n",
      " request_address      | 2315  EL PASO ST,... \n",
      " council_district     | 005                  \n",
      "-RECORD 1------------------------------------\n",
      " case_id              | 1014127333           \n",
      " case_opened_date     | 1/1/18 0:46          \n",
      " case_closed_date     | 1/3/18 8:11          \n",
      " case_due_date        | 1/5/18 8:30          \n",
      " case_late            | false                \n",
      " num_days_late        | -2.0126041669999997  \n",
      " case_closed          | true                 \n",
      " dept_division        | Storm Water          \n",
      " service_request_type | Removal Of Obstru... \n",
      " SLA_days             | 4.322222222          \n",
      " case_status          | Closed               \n",
      " source_id            | svcCRMSS             \n",
      " request_address      | 2215  GOLIAD RD, ... \n",
      " council_district     | 003                  \n",
      "-RECORD 2------------------------------------\n",
      " case_id              | 1014127334           \n",
      " case_opened_date     | 1/1/18 0:48          \n",
      " case_closed_date     | 1/2/18 7:57          \n",
      " case_due_date        | 1/5/18 8:30          \n",
      " case_late            | false                \n",
      " num_days_late        | -3.022337963         \n",
      " case_closed          | true                 \n",
      " dept_division        | Storm Water          \n",
      " service_request_type | Removal Of Obstru... \n",
      " SLA_days             | 4.320729167          \n",
      " case_status          | Closed               \n",
      " source_id            | svcCRMSS             \n",
      " request_address      | 102  PALFREY ST W... \n",
      " council_district     | 003                  \n",
      "-RECORD 3------------------------------------\n",
      " case_id              | 1014127335           \n",
      " case_opened_date     | 1/1/18 1:29          \n",
      " case_closed_date     | 1/2/18 8:13          \n",
      " case_due_date        | 1/17/18 8:30         \n",
      " case_late            | false                \n",
      " num_days_late        | -15.01148148         \n",
      " case_closed          | true                 \n",
      " dept_division        | Code Enforcement     \n",
      " service_request_type | Front Or Side Yar... \n",
      " SLA_days             | 16.29188657          \n",
      " case_status          | Closed               \n",
      " source_id            | svcCRMSS             \n",
      " request_address      | 114  LA GARDE ST,... \n",
      " council_district     | 003                  \n",
      "-RECORD 4------------------------------------\n",
      " case_id              | 1014127336           \n",
      " case_opened_date     | 1/1/18 1:34          \n",
      " case_closed_date     | 1/1/18 13:29         \n",
      " case_due_date        | 1/1/18 4:34          \n",
      " case_late            | true                 \n",
      " num_days_late        | 0.37216435200000003  \n",
      " case_closed          | true                 \n",
      " dept_division        | Field Operations     \n",
      " service_request_type | Animal Cruelty(Cr... \n",
      " SLA_days             | 0.125                \n",
      " case_status          | Closed               \n",
      " source_id            | svcCRMSS             \n",
      " request_address      | 734  CLEARVIEW DR... \n",
      " council_district     | 007                  \n",
      "only showing top 5 rows\n",
      "\n"
     ]
    }
   ],
   "source": [
    "df.show(5, vertical=True)"
   ]
  },
  {
   "cell_type": "code",
   "execution_count": 16,
   "metadata": {},
   "outputs": [
    {
     "name": "stdout",
     "output_type": "stream",
     "text": [
      "+----------------+-----------------------------------------------+\n",
      "|case_opened_date|to_timestamp(`case_opened_date`, 'M/d/yy H:mm')|\n",
      "+----------------+-----------------------------------------------+\n",
      "|     1/1/18 0:42|                            2018-01-01 00:42:00|\n",
      "|     1/1/18 0:46|                            2018-01-01 00:46:00|\n",
      "|     1/1/18 0:48|                            2018-01-01 00:48:00|\n",
      "|     1/1/18 1:29|                            2018-01-01 01:29:00|\n",
      "|     1/1/18 1:34|                            2018-01-01 01:34:00|\n",
      "+----------------+-----------------------------------------------+\n",
      "only showing top 5 rows\n",
      "\n"
     ]
    }
   ],
   "source": [
    "fmt = \"M/d/yy H:mm\"\n",
    "\n",
    "df.select(\n",
    "    \"case_opened_date\",\n",
    "    to_timestamp(\"case_opened_date\", fmt)\n",
    ").show(5)"
   ]
  },
  {
   "cell_type": "code",
   "execution_count": 17,
   "metadata": {},
   "outputs": [],
   "source": [
    "df = df.withColumn(\"case_opened_date\", to_timestamp(\"case_opened_date\", fmt))\n",
    "df = df.withColumn(\"case_closed_date\", to_timestamp(\"case_closed_date\", fmt))\n",
    "df = df.withColumn(\"case_due_date\", to_timestamp(\"case_due_date\", fmt))"
   ]
  },
  {
   "cell_type": "code",
   "execution_count": 18,
   "metadata": {},
   "outputs": [
    {
     "name": "stdout",
     "output_type": "stream",
     "text": [
      "root\n",
      " |-- case_id: integer (nullable = true)\n",
      " |-- case_opened_date: timestamp (nullable = true)\n",
      " |-- case_closed_date: timestamp (nullable = true)\n",
      " |-- case_due_date: timestamp (nullable = true)\n",
      " |-- case_late: boolean (nullable = true)\n",
      " |-- num_days_late: double (nullable = true)\n",
      " |-- case_closed: boolean (nullable = true)\n",
      " |-- dept_division: string (nullable = true)\n",
      " |-- service_request_type: string (nullable = true)\n",
      " |-- SLA_days: double (nullable = true)\n",
      " |-- case_status: string (nullable = true)\n",
      " |-- source_id: string (nullable = true)\n",
      " |-- request_address: string (nullable = true)\n",
      " |-- council_district: string (nullable = false)\n",
      "\n",
      "-RECORD 0------------------------------------\n",
      " case_id              | 1014127332           \n",
      " case_opened_date     | 2018-01-01 00:42:00  \n",
      " case_closed_date     | 2018-01-01 12:29:00  \n",
      " case_due_date        | 2020-09-26 00:42:00  \n",
      " case_late            | false                \n",
      " num_days_late        | -998.5087616000001   \n",
      " case_closed          | true                 \n",
      " dept_division        | Field Operations     \n",
      " service_request_type | Stray Animal         \n",
      " SLA_days             | 999.0                \n",
      " case_status          | Closed               \n",
      " source_id            | svcCRMLS             \n",
      " request_address      | 2315  EL PASO ST,... \n",
      " council_district     | 005                  \n",
      "-RECORD 1------------------------------------\n",
      " case_id              | 1014127333           \n",
      " case_opened_date     | 2018-01-01 00:46:00  \n",
      " case_closed_date     | 2018-01-03 08:11:00  \n",
      " case_due_date        | 2018-01-05 08:30:00  \n",
      " case_late            | false                \n",
      " num_days_late        | -2.0126041669999997  \n",
      " case_closed          | true                 \n",
      " dept_division        | Storm Water          \n",
      " service_request_type | Removal Of Obstru... \n",
      " SLA_days             | 4.322222222          \n",
      " case_status          | Closed               \n",
      " source_id            | svcCRMSS             \n",
      " request_address      | 2215  GOLIAD RD, ... \n",
      " council_district     | 003                  \n",
      "-RECORD 2------------------------------------\n",
      " case_id              | 1014127334           \n",
      " case_opened_date     | 2018-01-01 00:48:00  \n",
      " case_closed_date     | 2018-01-02 07:57:00  \n",
      " case_due_date        | 2018-01-05 08:30:00  \n",
      " case_late            | false                \n",
      " num_days_late        | -3.022337963         \n",
      " case_closed          | true                 \n",
      " dept_division        | Storm Water          \n",
      " service_request_type | Removal Of Obstru... \n",
      " SLA_days             | 4.320729167          \n",
      " case_status          | Closed               \n",
      " source_id            | svcCRMSS             \n",
      " request_address      | 102  PALFREY ST W... \n",
      " council_district     | 003                  \n",
      "only showing top 3 rows\n",
      "\n"
     ]
    }
   ],
   "source": [
    "df.printSchema()\n",
    "df.show(3, vertical=True)"
   ]
  },
  {
   "cell_type": "code",
   "execution_count": 19,
   "metadata": {},
   "outputs": [
    {
     "name": "stdout",
     "output_type": "stream",
     "text": [
      "== Physical Plan ==\n",
      "*(1) Project [case_id#66, gettimestamp(case_opened_date#67, M/d/yy H:mm, Some(America/Chicago)) AS case_opened_date#429, gettimestamp(case_closed_date#68, M/d/yy H:mm, Some(America/Chicago)) AS case_closed_date#444, gettimestamp(SLA_due_date#69, M/d/yy H:mm, Some(America/Chicago)) AS case_due_date#459, (case_late#70 = YES) AS case_late#216, num_days_late#71, (case_closed#72 = YES) AS case_closed#231, dept_division#73, service_request_type#74, SLA_days#75, case_status#76, source_id#77, request_address#78, format_string(%03d, council_district#79) AS council_district#330]\n",
      "+- FileScan csv [case_id#66,case_opened_date#67,case_closed_date#68,SLA_due_date#69,case_late#70,num_days_late#71,case_closed#72,dept_division#73,service_request_type#74,SLA_days#75,case_status#76,source_id#77,request_address#78,council_district#79] Batched: false, DataFilters: [], Format: CSV, Location: InMemoryFileIndex[file:/Users/cryptobandido/codeup-data-science/spark-exercises/data/case.csv], PartitionFilters: [], PushedFilters: [], ReadSchema: struct<case_id:int,case_opened_date:string,case_closed_date:string,SLA_due_date:string,case_late:...\n",
      "\n",
      "\n"
     ]
    }
   ],
   "source": [
    "df.explain()"
   ]
  },
  {
   "cell_type": "code",
   "execution_count": 20,
   "metadata": {},
   "outputs": [
    {
     "name": "stdout",
     "output_type": "stream",
     "text": [
      "+----------------------------------------+----------------------------------------+\n",
      "|request_address                         |lower(trim(request_address))            |\n",
      "+----------------------------------------+----------------------------------------+\n",
      "|2315  EL PASO ST, San Antonio, 78207    |2315  el paso st, san antonio, 78207    |\n",
      "|2215  GOLIAD RD, San Antonio, 78223     |2215  goliad rd, san antonio, 78223     |\n",
      "|102  PALFREY ST W, San Antonio, 78223   |102  palfrey st w, san antonio, 78223   |\n",
      "|114  LA GARDE ST, San Antonio, 78223    |114  la garde st, san antonio, 78223    |\n",
      "|734  CLEARVIEW DR, San Antonio, 78228   |734  clearview dr, san antonio, 78228   |\n",
      "|BANDERA RD and BRESNAHAN                |bandera rd and bresnahan                |\n",
      "|10133  FIGARO CANYON, San Antonio, 78251|10133  figaro canyon, san antonio, 78251|\n",
      "|10133  FIGARO CANYON, San Antonio, 78251|10133  figaro canyon, san antonio, 78251|\n",
      "|10133  FIGARO CANYON, San Antonio, 78251|10133  figaro canyon, san antonio, 78251|\n",
      "|10133  FIGARO CANYON, San Antonio, 78251|10133  figaro canyon, san antonio, 78251|\n",
      "|10133  FIGARO CANYON, San Antonio, 78251|10133  figaro canyon, san antonio, 78251|\n",
      "|10133  FIGARO CANYON, San Antonio, 78251|10133  figaro canyon, san antonio, 78251|\n",
      "|10129  BOXING PASS, San Antonio, 78251  |10129  boxing pass, san antonio, 78251  |\n",
      "|10129  BOXING PASS, San Antonio, 78251  |10129  boxing pass, san antonio, 78251  |\n",
      "|10129  BOXING PASS, San Antonio, 78251  |10129  boxing pass, san antonio, 78251  |\n",
      "|834  BARREL POINT, San Antonio, 78251   |834  barrel point, san antonio, 78251   |\n",
      "|834  BARREL POINT, San Antonio, 78251   |834  barrel point, san antonio, 78251   |\n",
      "|834  BARREL POINT, San Antonio, 78251   |834  barrel point, san antonio, 78251   |\n",
      "|834  BARREL POINT, San Antonio, 78251   |834  barrel point, san antonio, 78251   |\n",
      "|834  BARREL POINT, San Antonio, 78251   |834  barrel point, san antonio, 78251   |\n",
      "+----------------------------------------+----------------------------------------+\n",
      "only showing top 20 rows\n",
      "\n"
     ]
    }
   ],
   "source": [
    "df.select(\n",
    "    col(\"request_address\"),\n",
    "    lower(trim(\"request_address\"))\n",
    ").show(truncate=False)"
   ]
  },
  {
   "cell_type": "code",
   "execution_count": 21,
   "metadata": {},
   "outputs": [],
   "source": [
    "df = df.withColumn(\"request_address\", lower(trim(\"request_address\")))"
   ]
  },
  {
   "cell_type": "code",
   "execution_count": 22,
   "metadata": {},
   "outputs": [
    {
     "name": "stdout",
     "output_type": "stream",
     "text": [
      "root\n",
      " |-- case_id: integer (nullable = true)\n",
      " |-- case_opened_date: timestamp (nullable = true)\n",
      " |-- case_closed_date: timestamp (nullable = true)\n",
      " |-- case_due_date: timestamp (nullable = true)\n",
      " |-- case_late: boolean (nullable = true)\n",
      " |-- num_days_late: double (nullable = true)\n",
      " |-- case_closed: boolean (nullable = true)\n",
      " |-- dept_division: string (nullable = true)\n",
      " |-- service_request_type: string (nullable = true)\n",
      " |-- SLA_days: double (nullable = true)\n",
      " |-- case_status: string (nullable = true)\n",
      " |-- source_id: string (nullable = true)\n",
      " |-- request_address: string (nullable = true)\n",
      " |-- council_district: string (nullable = false)\n",
      "\n",
      "-RECORD 0-----------------------------------------------------\n",
      " case_id              | 1014127332                            \n",
      " case_opened_date     | 2018-01-01 00:42:00                   \n",
      " case_closed_date     | 2018-01-01 12:29:00                   \n",
      " case_due_date        | 2020-09-26 00:42:00                   \n",
      " case_late            | false                                 \n",
      " num_days_late        | -998.5087616000001                    \n",
      " case_closed          | true                                  \n",
      " dept_division        | Field Operations                      \n",
      " service_request_type | Stray Animal                          \n",
      " SLA_days             | 999.0                                 \n",
      " case_status          | Closed                                \n",
      " source_id            | svcCRMLS                              \n",
      " request_address      | 2315  el paso st, san antonio, 78207  \n",
      " council_district     | 005                                   \n",
      "-RECORD 1-----------------------------------------------------\n",
      " case_id              | 1014127333                            \n",
      " case_opened_date     | 2018-01-01 00:46:00                   \n",
      " case_closed_date     | 2018-01-03 08:11:00                   \n",
      " case_due_date        | 2018-01-05 08:30:00                   \n",
      " case_late            | false                                 \n",
      " num_days_late        | -2.0126041669999997                   \n",
      " case_closed          | true                                  \n",
      " dept_division        | Storm Water                           \n",
      " service_request_type | Removal Of Obstruction                \n",
      " SLA_days             | 4.322222222                           \n",
      " case_status          | Closed                                \n",
      " source_id            | svcCRMSS                              \n",
      " request_address      | 2215  goliad rd, san antonio, 78223   \n",
      " council_district     | 003                                   \n",
      "-RECORD 2-----------------------------------------------------\n",
      " case_id              | 1014127334                            \n",
      " case_opened_date     | 2018-01-01 00:48:00                   \n",
      " case_closed_date     | 2018-01-02 07:57:00                   \n",
      " case_due_date        | 2018-01-05 08:30:00                   \n",
      " case_late            | false                                 \n",
      " num_days_late        | -3.022337963                          \n",
      " case_closed          | true                                  \n",
      " dept_division        | Storm Water                           \n",
      " service_request_type | Removal Of Obstruction                \n",
      " SLA_days             | 4.320729167                           \n",
      " case_status          | Closed                                \n",
      " source_id            | svcCRMSS                              \n",
      " request_address      | 102  palfrey st w, san antonio, 78223 \n",
      " council_district     | 003                                   \n",
      "only showing top 3 rows\n",
      "\n"
     ]
    }
   ],
   "source": [
    "df.printSchema()\n",
    "df.show(3, vertical=True, truncate=False)"
   ]
  },
  {
   "cell_type": "code",
   "execution_count": 23,
   "metadata": {},
   "outputs": [
    {
     "name": "stdout",
     "output_type": "stream",
     "text": [
      "+----------------------------------------+------------------------------------------+\n",
      "|request_address                         |regexp_extract(request_address, (\\d+)$, 1)|\n",
      "+----------------------------------------+------------------------------------------+\n",
      "|2315  el paso st, san antonio, 78207    |78207                                     |\n",
      "|2215  goliad rd, san antonio, 78223     |78223                                     |\n",
      "|102  palfrey st w, san antonio, 78223   |78223                                     |\n",
      "|114  la garde st, san antonio, 78223    |78223                                     |\n",
      "|734  clearview dr, san antonio, 78228   |78228                                     |\n",
      "|bandera rd and bresnahan                |                                          |\n",
      "|10133  figaro canyon, san antonio, 78251|78251                                     |\n",
      "|10133  figaro canyon, san antonio, 78251|78251                                     |\n",
      "|10133  figaro canyon, san antonio, 78251|78251                                     |\n",
      "|10133  figaro canyon, san antonio, 78251|78251                                     |\n",
      "|10133  figaro canyon, san antonio, 78251|78251                                     |\n",
      "|10133  figaro canyon, san antonio, 78251|78251                                     |\n",
      "|10129  boxing pass, san antonio, 78251  |78251                                     |\n",
      "|10129  boxing pass, san antonio, 78251  |78251                                     |\n",
      "|10129  boxing pass, san antonio, 78251  |78251                                     |\n",
      "|834  barrel point, san antonio, 78251   |78251                                     |\n",
      "|834  barrel point, san antonio, 78251   |78251                                     |\n",
      "|834  barrel point, san antonio, 78251   |78251                                     |\n",
      "|834  barrel point, san antonio, 78251   |78251                                     |\n",
      "|834  barrel point, san antonio, 78251   |78251                                     |\n",
      "+----------------------------------------+------------------------------------------+\n",
      "only showing top 20 rows\n",
      "\n"
     ]
    }
   ],
   "source": [
    "df.select(\n",
    "    \"request_address\",\n",
    "    regexp_extract(\"request_address\", r\"(\\d+)$\", 1)\n",
    ").show(truncate=False)"
   ]
  },
  {
   "cell_type": "code",
   "execution_count": 24,
   "metadata": {},
   "outputs": [],
   "source": [
    "df = df.withColumn(\"zipcode\", regexp_extract(\"request_address\", r\"(\\d+)$\", 1))\n"
   ]
  },
  {
   "cell_type": "code",
   "execution_count": 25,
   "metadata": {},
   "outputs": [
    {
     "data": {
      "text/plain": [
       "DataFrame[case_id: int, case_opened_date: timestamp, case_closed_date: timestamp, case_due_date: timestamp, case_late: boolean, num_days_late: double, case_closed: boolean, dept_division: string, service_request_type: string, SLA_days: double, case_status: string, source_id: string, request_address: string, council_district: string, zipcode: string]"
      ]
     },
     "execution_count": 25,
     "metadata": {},
     "output_type": "execute_result"
    }
   ],
   "source": [
    "df"
   ]
  },
  {
   "cell_type": "code",
   "execution_count": 26,
   "metadata": {},
   "outputs": [
    {
     "name": "stdout",
     "output_type": "stream",
     "text": [
      "-RECORD 0------------------------------------\n",
      " case_id              | 1014127332           \n",
      " case_opened_date     | 2018-01-01 00:42:00  \n",
      " case_closed_date     | 2018-01-01 12:29:00  \n",
      " case_due_date        | 2020-09-26 00:42:00  \n",
      " case_late            | false                \n",
      " num_days_late        | -998.5087616000001   \n",
      " case_closed          | true                 \n",
      " dept_division        | Field Operations     \n",
      " service_request_type | Stray Animal         \n",
      " SLA_days             | 999.0                \n",
      " case_status          | Closed               \n",
      " source_id            | svcCRMLS             \n",
      " request_address      | 2315  el paso st,... \n",
      " council_district     | 005                  \n",
      " zipcode              | 78207                \n",
      "-RECORD 1------------------------------------\n",
      " case_id              | 1014127333           \n",
      " case_opened_date     | 2018-01-01 00:46:00  \n",
      " case_closed_date     | 2018-01-03 08:11:00  \n",
      " case_due_date        | 2018-01-05 08:30:00  \n",
      " case_late            | false                \n",
      " num_days_late        | -2.0126041669999997  \n",
      " case_closed          | true                 \n",
      " dept_division        | Storm Water          \n",
      " service_request_type | Removal Of Obstru... \n",
      " SLA_days             | 4.322222222          \n",
      " case_status          | Closed               \n",
      " source_id            | svcCRMSS             \n",
      " request_address      | 2215  goliad rd, ... \n",
      " council_district     | 003                  \n",
      " zipcode              | 78223                \n",
      "-RECORD 2------------------------------------\n",
      " case_id              | 1014127334           \n",
      " case_opened_date     | 2018-01-01 00:48:00  \n",
      " case_closed_date     | 2018-01-02 07:57:00  \n",
      " case_due_date        | 2018-01-05 08:30:00  \n",
      " case_late            | false                \n",
      " num_days_late        | -3.022337963         \n",
      " case_closed          | true                 \n",
      " dept_division        | Storm Water          \n",
      " service_request_type | Removal Of Obstru... \n",
      " SLA_days             | 4.320729167          \n",
      " case_status          | Closed               \n",
      " source_id            | svcCRMSS             \n",
      " request_address      | 102  palfrey st w... \n",
      " council_district     | 003                  \n",
      " zipcode              | 78223                \n",
      "-RECORD 3------------------------------------\n",
      " case_id              | 1014127335           \n",
      " case_opened_date     | 2018-01-01 01:29:00  \n",
      " case_closed_date     | 2018-01-02 08:13:00  \n",
      " case_due_date        | 2018-01-17 08:30:00  \n",
      " case_late            | false                \n",
      " num_days_late        | -15.01148148         \n",
      " case_closed          | true                 \n",
      " dept_division        | Code Enforcement     \n",
      " service_request_type | Front Or Side Yar... \n",
      " SLA_days             | 16.29188657          \n",
      " case_status          | Closed               \n",
      " source_id            | svcCRMSS             \n",
      " request_address      | 114  la garde st,... \n",
      " council_district     | 003                  \n",
      " zipcode              | 78223                \n",
      "-RECORD 4------------------------------------\n",
      " case_id              | 1014127336           \n",
      " case_opened_date     | 2018-01-01 01:34:00  \n",
      " case_closed_date     | 2018-01-01 13:29:00  \n",
      " case_due_date        | 2018-01-01 04:34:00  \n",
      " case_late            | true                 \n",
      " num_days_late        | 0.37216435200000003  \n",
      " case_closed          | true                 \n",
      " dept_division        | Field Operations     \n",
      " service_request_type | Animal Cruelty(Cr... \n",
      " SLA_days             | 0.125                \n",
      " case_status          | Closed               \n",
      " source_id            | svcCRMSS             \n",
      " request_address      | 734  clearview dr... \n",
      " council_district     | 007                  \n",
      " zipcode              | 78228                \n",
      "only showing top 5 rows\n",
      "\n"
     ]
    }
   ],
   "source": [
    "df.show(5, vertical=True)"
   ]
  },
  {
   "cell_type": "code",
   "execution_count": 27,
   "metadata": {},
   "outputs": [
    {
     "name": "stdout",
     "output_type": "stream",
     "text": [
      "+-------------------+-------------------+-----------+--------+-------------+-------------+\n",
      "|   case_opened_date|   case_closed_date|case_closed|case_age|days_to_close|case_lifetime|\n",
      "+-------------------+-------------------+-----------+--------+-------------+-------------+\n",
      "|2018-01-01 00:42:00|2018-01-01 12:29:00|       true|    1064|            0|            0|\n",
      "|2018-01-01 00:46:00|2018-01-03 08:11:00|       true|    1064|            2|            2|\n",
      "|2018-01-01 00:48:00|2018-01-02 07:57:00|       true|    1064|            1|            1|\n",
      "|2018-01-01 01:29:00|2018-01-02 08:13:00|       true|    1064|            1|            1|\n",
      "|2018-01-01 01:34:00|2018-01-01 13:29:00|       true|    1064|            0|            0|\n",
      "|2018-01-01 06:28:00|2018-01-01 14:38:00|       true|    1064|            0|            0|\n",
      "|2018-01-01 06:57:00|2018-01-02 15:32:00|       true|    1064|            1|            1|\n",
      "|2018-01-01 06:58:00|2018-01-02 15:32:00|       true|    1064|            1|            1|\n",
      "|2018-01-01 06:58:00|2018-01-02 15:32:00|       true|    1064|            1|            1|\n",
      "|2018-01-01 06:59:00|2018-01-02 15:32:00|       true|    1064|            1|            1|\n",
      "+-------------------+-------------------+-----------+--------+-------------+-------------+\n",
      "only showing top 10 rows\n",
      "\n"
     ]
    }
   ],
   "source": [
    "# case_lifetime\n",
    "#   - if case is closed then diff between close and open dates -- days_to_close\n",
    "#   - else diff between open date and now -- case_age\n",
    "\n",
    "df.select(\n",
    "    \"case_opened_date\",\n",
    "    \"case_closed_date\",\n",
    "    \"case_closed\",\n",
    "    datediff(current_timestamp(), \"case_opened_date\").alias(\"case_age\"),\n",
    "    datediff(\"case_closed_date\", \"case_opened_date\").alias(\"days_to_close\"),\n",
    ").withColumn(\n",
    "    \"case_lifetime\",\n",
    "    when(col(\"case_closed\"), col(\"days_to_close\")).otherwise(col(\"case_age\")),\n",
    ").show(10)\n"
   ]
  },
  {
   "cell_type": "code",
   "execution_count": 28,
   "metadata": {},
   "outputs": [],
   "source": [
    "df = df.withColumn(\"case_age\", datediff(current_timestamp(), \"case_opened_date\"))\n",
    "df = df.withColumn(\"days_to_close\", datediff(\"case_closed_date\", \"case_opened_date\"))\n",
    "df = df.withColumn(\"case_lifetime\", when(col(\"case_closed\"), col(\"days_to_close\")).otherwise(col(\"case_age\")))"
   ]
  },
  {
   "cell_type": "code",
   "execution_count": null,
   "metadata": {},
   "outputs": [],
   "source": []
  }
 ],
 "metadata": {
  "kernelspec": {
   "display_name": "Python 3",
   "language": "python",
   "name": "python3"
  },
  "language_info": {
   "codemirror_mode": {
    "name": "ipython",
    "version": 3
   },
   "file_extension": ".py",
   "mimetype": "text/x-python",
   "name": "python",
   "nbconvert_exporter": "python",
   "pygments_lexer": "ipython3",
   "version": "3.7.6"
  }
 },
 "nbformat": 4,
 "nbformat_minor": 4
}
