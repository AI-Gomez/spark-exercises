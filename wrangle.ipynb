{
 "cells": [
  {
   "cell_type": "code",
   "execution_count": 1,
   "metadata": {},
   "outputs": [],
   "source": [
    "from pyspark.sql import SparkSession\n",
    "from pyspark.sql.functions import *\n",
    "\n",
    "spark = SparkSession.builder.getOrCreate()"
   ]
  },
  {
   "cell_type": "code",
   "execution_count": 2,
   "metadata": {},
   "outputs": [
    {
     "name": "stdout",
     "output_type": "stream",
     "text": [
      "root\n",
      " |-- source_id: string (nullable = true)\n",
      " |-- source_username: string (nullable = true)\n",
      "\n",
      "+---------+--------------------+\n",
      "|source_id|     source_username|\n",
      "+---------+--------------------+\n",
      "|   100137|    Merlene Blodgett|\n",
      "|   103582|         Carmen Cura|\n",
      "|   106463|     Richard Sanchez|\n",
      "|   119403|      Betty De Hoyos|\n",
      "|   119555|      Socorro Quiara|\n",
      "|   119868| Michelle San Miguel|\n",
      "|   120752|      Eva T. Kleiber|\n",
      "|   124405|           Lori Lara|\n",
      "|   132408|       Leonard Silva|\n",
      "|   135723|        Amy Cardenas|\n",
      "|   136202|    Michelle Urrutia|\n",
      "|   136979|      Leticia Garcia|\n",
      "|   137943|    Pamela K. Baccus|\n",
      "|   138605|        Marisa Ozuna|\n",
      "|   138650|      Kimberly Green|\n",
      "|   138650|Kimberly Green-Woods|\n",
      "|   138793| Guadalupe Rodriguez|\n",
      "|   138810|       Tawona Martin|\n",
      "|   139342|     Jessica Mendoza|\n",
      "|   139344|        Isis Mendoza|\n",
      "+---------+--------------------+\n",
      "only showing top 20 rows\n",
      "\n"
     ]
    }
   ],
   "source": [
    "df = spark.read.csv(\"data/source.csv\", header=True, inferSchema=True)\n",
    "df.printSchema()\n",
    "df.show()\n"
   ]
  },
  {
   "cell_type": "code",
   "execution_count": 3,
   "metadata": {},
   "outputs": [
    {
     "name": "stdout",
     "output_type": "stream",
     "text": [
      "+---------+--------------------+\n",
      "|source_id|     source_username|\n",
      "+---------+--------------------+\n",
      "|   100137|    Merlene Blodgett|\n",
      "|   103582|         Carmen Cura|\n",
      "|   106463|     Richard Sanchez|\n",
      "|   119403|      Betty De Hoyos|\n",
      "|   119555|      Socorro Quiara|\n",
      "|   119868| Michelle San Miguel|\n",
      "|   120752|      Eva T. Kleiber|\n",
      "|   124405|           Lori Lara|\n",
      "|   132408|       Leonard Silva|\n",
      "|   135723|        Amy Cardenas|\n",
      "|   136202|    Michelle Urrutia|\n",
      "|   136979|      Leticia Garcia|\n",
      "|   137943|    Pamela K. Baccus|\n",
      "|   138605|        Marisa Ozuna|\n",
      "|   138650|      Kimberly Green|\n",
      "|   138650|Kimberly Green-Woods|\n",
      "|   138793| Guadalupe Rodriguez|\n",
      "|   138810|       Tawona Martin|\n",
      "|   139342|     Jessica Mendoza|\n",
      "|   139344|        Isis Mendoza|\n",
      "+---------+--------------------+\n",
      "only showing top 20 rows\n",
      "\n"
     ]
    }
   ],
   "source": [
    "from pyspark.sql.types import StructType, StructField, StringType\n",
    "\n",
    "schema = StructType([\n",
    "    StructField(\"source_id\", StringType()),\n",
    "    StructField(\"source_username\", StringType()),\n",
    "])\n",
    "\n",
    "df = spark.read.csv(\"data/source.csv\", header=True, schema=schema)\n",
    "df.show()"
   ]
  },
  {
   "cell_type": "code",
   "execution_count": 4,
   "metadata": {},
   "outputs": [],
   "source": [
    "#df.write.json(\"spark-json\")"
   ]
  },
  {
   "cell_type": "code",
   "execution_count": 5,
   "metadata": {},
   "outputs": [
    {
     "name": "stdout",
     "output_type": "stream",
     "text": [
      "root\n",
      " |-- case_id: integer (nullable = true)\n",
      " |-- case_opened_date: string (nullable = true)\n",
      " |-- case_closed_date: string (nullable = true)\n",
      " |-- SLA_due_date: string (nullable = true)\n",
      " |-- case_late: string (nullable = true)\n",
      " |-- num_days_late: double (nullable = true)\n",
      " |-- case_closed: string (nullable = true)\n",
      " |-- dept_division: string (nullable = true)\n",
      " |-- service_request_type: string (nullable = true)\n",
      " |-- SLA_days: double (nullable = true)\n",
      " |-- case_status: string (nullable = true)\n",
      " |-- source_id: string (nullable = true)\n",
      " |-- request_address: string (nullable = true)\n",
      " |-- council_district: integer (nullable = true)\n",
      "\n",
      "-RECORD 0------------------------------------\n",
      " case_id              | 1014127332           \n",
      " case_opened_date     | 1/1/18 0:42          \n",
      " case_closed_date     | 1/1/18 12:29         \n",
      " SLA_due_date         | 9/26/20 0:42         \n",
      " case_late            | NO                   \n",
      " num_days_late        | -998.5087616000001   \n",
      " case_closed          | YES                  \n",
      " dept_division        | Field Operations     \n",
      " service_request_type | Stray Animal         \n",
      " SLA_days             | 999.0                \n",
      " case_status          | Closed               \n",
      " source_id            | svcCRMLS             \n",
      " request_address      | 2315  EL PASO ST,... \n",
      " council_district     | 5                    \n",
      "-RECORD 1------------------------------------\n",
      " case_id              | 1014127333           \n",
      " case_opened_date     | 1/1/18 0:46          \n",
      " case_closed_date     | 1/3/18 8:11          \n",
      " SLA_due_date         | 1/5/18 8:30          \n",
      " case_late            | NO                   \n",
      " num_days_late        | -2.0126041669999997  \n",
      " case_closed          | YES                  \n",
      " dept_division        | Storm Water          \n",
      " service_request_type | Removal Of Obstru... \n",
      " SLA_days             | 4.322222222          \n",
      " case_status          | Closed               \n",
      " source_id            | svcCRMSS             \n",
      " request_address      | 2215  GOLIAD RD, ... \n",
      " council_district     | 3                    \n",
      "-RECORD 2------------------------------------\n",
      " case_id              | 1014127334           \n",
      " case_opened_date     | 1/1/18 0:48          \n",
      " case_closed_date     | 1/2/18 7:57          \n",
      " SLA_due_date         | 1/5/18 8:30          \n",
      " case_late            | NO                   \n",
      " num_days_late        | -3.022337963         \n",
      " case_closed          | YES                  \n",
      " dept_division        | Storm Water          \n",
      " service_request_type | Removal Of Obstru... \n",
      " SLA_days             | 4.320729167          \n",
      " case_status          | Closed               \n",
      " source_id            | svcCRMSS             \n",
      " request_address      | 102  PALFREY ST W... \n",
      " council_district     | 3                    \n",
      "-RECORD 3------------------------------------\n",
      " case_id              | 1014127335           \n",
      " case_opened_date     | 1/1/18 1:29          \n",
      " case_closed_date     | 1/2/18 8:13          \n",
      " SLA_due_date         | 1/17/18 8:30         \n",
      " case_late            | NO                   \n",
      " num_days_late        | -15.01148148         \n",
      " case_closed          | YES                  \n",
      " dept_division        | Code Enforcement     \n",
      " service_request_type | Front Or Side Yar... \n",
      " SLA_days             | 16.29188657          \n",
      " case_status          | Closed               \n",
      " source_id            | svcCRMSS             \n",
      " request_address      | 114  LA GARDE ST,... \n",
      " council_district     | 3                    \n",
      "-RECORD 4------------------------------------\n",
      " case_id              | 1014127336           \n",
      " case_opened_date     | 1/1/18 1:34          \n",
      " case_closed_date     | 1/1/18 13:29         \n",
      " SLA_due_date         | 1/1/18 4:34          \n",
      " case_late            | YES                  \n",
      " num_days_late        | 0.37216435200000003  \n",
      " case_closed          | YES                  \n",
      " dept_division        | Field Operations     \n",
      " service_request_type | Animal Cruelty(Cr... \n",
      " SLA_days             | 0.125                \n",
      " case_status          | Closed               \n",
      " source_id            | svcCRMSS             \n",
      " request_address      | 734  CLEARVIEW DR... \n",
      " council_district     | 7                    \n",
      "only showing top 5 rows\n",
      "\n"
     ]
    }
   ],
   "source": [
    "df = spark.read.csv('data/case.csv', header=True, inferSchema=True)\n",
    "df.printSchema()\n",
    "df.show(5, vertical=True)"
   ]
  },
  {
   "cell_type": "code",
   "execution_count": 6,
   "metadata": {},
   "outputs": [],
   "source": [
    "df = df.withColumnRenamed(\"SLA_due_date\", \"case_due_date\")"
   ]
  },
  {
   "cell_type": "code",
   "execution_count": 7,
   "metadata": {},
   "outputs": [
    {
     "name": "stdout",
     "output_type": "stream",
     "text": [
      "== Physical Plan ==\n",
      "*(1) Project [case_id#62, case_opened_date#63, case_closed_date#64, SLA_due_date#65 AS case_due_date#161, case_late#66, num_days_late#67, case_closed#68, dept_division#69, service_request_type#70, SLA_days#71, case_status#72, source_id#73, request_address#74, council_district#75]\n",
      "+- FileScan csv [case_id#62,case_opened_date#63,case_closed_date#64,SLA_due_date#65,case_late#66,num_days_late#67,case_closed#68,dept_division#69,service_request_type#70,SLA_days#71,case_status#72,source_id#73,request_address#74,council_district#75] Batched: false, DataFilters: [], Format: CSV, Location: InMemoryFileIndex[file:/Users/cryptobandido/codeup-data-science/spark-exercises/data/case.csv], PartitionFilters: [], PushedFilters: [], ReadSchema: struct<case_id:int,case_opened_date:string,case_closed_date:string,SLA_due_date:string,case_late:...\n",
      "\n",
      "\n"
     ]
    }
   ],
   "source": [
    "df.explain()"
   ]
  },
  {
   "cell_type": "code",
   "execution_count": 8,
   "metadata": {},
   "outputs": [
    {
     "name": "stdout",
     "output_type": "stream",
     "text": [
      "+---------+-----------+------+\n",
      "|case_late|case_closed| count|\n",
      "+---------+-----------+------+\n",
      "|       NO|        YES|735616|\n",
      "|      YES|        YES| 87978|\n",
      "|       NO|         NO| 11585|\n",
      "|      YES|         NO|  6525|\n",
      "+---------+-----------+------+\n",
      "\n"
     ]
    }
   ],
   "source": [
    "df.groupby('case_late', 'case_closed').count().show()"
   ]
  },
  {
   "cell_type": "code",
   "execution_count": 9,
   "metadata": {},
   "outputs": [],
   "source": [
    "df = df.withColumn(\"case_late\", expr(\"case_late == 'YES'\"))"
   ]
  },
  {
   "cell_type": "code",
   "execution_count": 10,
   "metadata": {},
   "outputs": [],
   "source": [
    "df = df.withColumn(\"case_closed\", expr(\"case_closed == 'YES'\"))"
   ]
  },
  {
   "cell_type": "code",
   "execution_count": 11,
   "metadata": {},
   "outputs": [
    {
     "name": "stdout",
     "output_type": "stream",
     "text": [
      "root\n",
      " |-- case_id: integer (nullable = true)\n",
      " |-- case_opened_date: string (nullable = true)\n",
      " |-- case_closed_date: string (nullable = true)\n",
      " |-- case_due_date: string (nullable = true)\n",
      " |-- case_late: boolean (nullable = true)\n",
      " |-- num_days_late: double (nullable = true)\n",
      " |-- case_closed: boolean (nullable = true)\n",
      " |-- dept_division: string (nullable = true)\n",
      " |-- service_request_type: string (nullable = true)\n",
      " |-- SLA_days: double (nullable = true)\n",
      " |-- case_status: string (nullable = true)\n",
      " |-- source_id: string (nullable = true)\n",
      " |-- request_address: string (nullable = true)\n",
      " |-- council_district: integer (nullable = true)\n",
      "\n",
      "-RECORD 0------------------------------------\n",
      " case_id              | 1014127332           \n",
      " case_opened_date     | 1/1/18 0:42          \n",
      " case_closed_date     | 1/1/18 12:29         \n",
      " case_due_date        | 9/26/20 0:42         \n",
      " case_late            | false                \n",
      " num_days_late        | -998.5087616000001   \n",
      " case_closed          | true                 \n",
      " dept_division        | Field Operations     \n",
      " service_request_type | Stray Animal         \n",
      " SLA_days             | 999.0                \n",
      " case_status          | Closed               \n",
      " source_id            | svcCRMLS             \n",
      " request_address      | 2315  EL PASO ST,... \n",
      " council_district     | 5                    \n",
      "-RECORD 1------------------------------------\n",
      " case_id              | 1014127333           \n",
      " case_opened_date     | 1/1/18 0:46          \n",
      " case_closed_date     | 1/3/18 8:11          \n",
      " case_due_date        | 1/5/18 8:30          \n",
      " case_late            | false                \n",
      " num_days_late        | -2.0126041669999997  \n",
      " case_closed          | true                 \n",
      " dept_division        | Storm Water          \n",
      " service_request_type | Removal Of Obstru... \n",
      " SLA_days             | 4.322222222          \n",
      " case_status          | Closed               \n",
      " source_id            | svcCRMSS             \n",
      " request_address      | 2215  GOLIAD RD, ... \n",
      " council_district     | 3                    \n",
      "-RECORD 2------------------------------------\n",
      " case_id              | 1014127334           \n",
      " case_opened_date     | 1/1/18 0:48          \n",
      " case_closed_date     | 1/2/18 7:57          \n",
      " case_due_date        | 1/5/18 8:30          \n",
      " case_late            | false                \n",
      " num_days_late        | -3.022337963         \n",
      " case_closed          | true                 \n",
      " dept_division        | Storm Water          \n",
      " service_request_type | Removal Of Obstru... \n",
      " SLA_days             | 4.320729167          \n",
      " case_status          | Closed               \n",
      " source_id            | svcCRMSS             \n",
      " request_address      | 102  PALFREY ST W... \n",
      " council_district     | 3                    \n",
      "-RECORD 3------------------------------------\n",
      " case_id              | 1014127335           \n",
      " case_opened_date     | 1/1/18 1:29          \n",
      " case_closed_date     | 1/2/18 8:13          \n",
      " case_due_date        | 1/17/18 8:30         \n",
      " case_late            | false                \n",
      " num_days_late        | -15.01148148         \n",
      " case_closed          | true                 \n",
      " dept_division        | Code Enforcement     \n",
      " service_request_type | Front Or Side Yar... \n",
      " SLA_days             | 16.29188657          \n",
      " case_status          | Closed               \n",
      " source_id            | svcCRMSS             \n",
      " request_address      | 114  LA GARDE ST,... \n",
      " council_district     | 3                    \n",
      "-RECORD 4------------------------------------\n",
      " case_id              | 1014127336           \n",
      " case_opened_date     | 1/1/18 1:34          \n",
      " case_closed_date     | 1/1/18 13:29         \n",
      " case_due_date        | 1/1/18 4:34          \n",
      " case_late            | true                 \n",
      " num_days_late        | 0.37216435200000003  \n",
      " case_closed          | true                 \n",
      " dept_division        | Field Operations     \n",
      " service_request_type | Animal Cruelty(Cr... \n",
      " SLA_days             | 0.125                \n",
      " case_status          | Closed               \n",
      " source_id            | svcCRMSS             \n",
      " request_address      | 734  CLEARVIEW DR... \n",
      " council_district     | 7                    \n",
      "only showing top 5 rows\n",
      "\n"
     ]
    }
   ],
   "source": [
    "df.printSchema()\n",
    "df.show(5, vertical=True)"
   ]
  },
  {
   "cell_type": "code",
   "execution_count": 12,
   "metadata": {},
   "outputs": [
    {
     "name": "stdout",
     "output_type": "stream",
     "text": [
      "+----------------+-------------------------------------+\n",
      "|council_district|format_string(%03d, council_district)|\n",
      "+----------------+-------------------------------------+\n",
      "|               5|                                  005|\n",
      "|               3|                                  003|\n",
      "|               3|                                  003|\n",
      "|               3|                                  003|\n",
      "|               7|                                  007|\n",
      "|               7|                                  007|\n",
      "|               4|                                  004|\n",
      "|               4|                                  004|\n",
      "|               4|                                  004|\n",
      "|               4|                                  004|\n",
      "|               4|                                  004|\n",
      "|               4|                                  004|\n",
      "|               4|                                  004|\n",
      "|               4|                                  004|\n",
      "|               4|                                  004|\n",
      "|               4|                                  004|\n",
      "|               4|                                  004|\n",
      "|               4|                                  004|\n",
      "|               4|                                  004|\n",
      "|               4|                                  004|\n",
      "+----------------+-------------------------------------+\n",
      "only showing top 20 rows\n",
      "\n"
     ]
    }
   ],
   "source": [
    "df.select(col('council_district'), format_string(\"%03d\", col(\"council_district\"))).show()"
   ]
  },
  {
   "cell_type": "code",
   "execution_count": 13,
   "metadata": {},
   "outputs": [],
   "source": [
    "df = df.withColumn(\"council_district\", format_string(\"%03d\", col(\"council_district\")))"
   ]
  },
  {
   "cell_type": "code",
   "execution_count": 14,
   "metadata": {},
   "outputs": [
    {
     "name": "stdout",
     "output_type": "stream",
     "text": [
      "== Physical Plan ==\n",
      "*(1) Project [case_id#62, case_opened_date#63, case_closed_date#64, SLA_due_date#65 AS case_due_date#161, (case_late#66 = YES) AS case_late#212, num_days_late#67, (case_closed#68 = YES) AS case_closed#227, dept_division#69, service_request_type#70, SLA_days#71, case_status#72, source_id#73, request_address#74, format_string(%03d, council_district#75) AS council_district#326]\n",
      "+- FileScan csv [case_id#62,case_opened_date#63,case_closed_date#64,SLA_due_date#65,case_late#66,num_days_late#67,case_closed#68,dept_division#69,service_request_type#70,SLA_days#71,case_status#72,source_id#73,request_address#74,council_district#75] Batched: false, DataFilters: [], Format: CSV, Location: InMemoryFileIndex[file:/Users/cryptobandido/codeup-data-science/spark-exercises/data/case.csv], PartitionFilters: [], PushedFilters: [], ReadSchema: struct<case_id:int,case_opened_date:string,case_closed_date:string,SLA_due_date:string,case_late:...\n",
      "\n",
      "\n"
     ]
    }
   ],
   "source": [
    "df.explain()\n"
   ]
  },
  {
   "cell_type": "code",
   "execution_count": 15,
   "metadata": {},
   "outputs": [
    {
     "name": "stdout",
     "output_type": "stream",
     "text": [
      "-RECORD 0------------------------------------\n",
      " case_id              | 1014127332           \n",
      " case_opened_date     | 1/1/18 0:42          \n",
      " case_closed_date     | 1/1/18 12:29         \n",
      " case_due_date        | 9/26/20 0:42         \n",
      " case_late            | false                \n",
      " num_days_late        | -998.5087616000001   \n",
      " case_closed          | true                 \n",
      " dept_division        | Field Operations     \n",
      " service_request_type | Stray Animal         \n",
      " SLA_days             | 999.0                \n",
      " case_status          | Closed               \n",
      " source_id            | svcCRMLS             \n",
      " request_address      | 2315  EL PASO ST,... \n",
      " council_district     | 005                  \n",
      "-RECORD 1------------------------------------\n",
      " case_id              | 1014127333           \n",
      " case_opened_date     | 1/1/18 0:46          \n",
      " case_closed_date     | 1/3/18 8:11          \n",
      " case_due_date        | 1/5/18 8:30          \n",
      " case_late            | false                \n",
      " num_days_late        | -2.0126041669999997  \n",
      " case_closed          | true                 \n",
      " dept_division        | Storm Water          \n",
      " service_request_type | Removal Of Obstru... \n",
      " SLA_days             | 4.322222222          \n",
      " case_status          | Closed               \n",
      " source_id            | svcCRMSS             \n",
      " request_address      | 2215  GOLIAD RD, ... \n",
      " council_district     | 003                  \n",
      "-RECORD 2------------------------------------\n",
      " case_id              | 1014127334           \n",
      " case_opened_date     | 1/1/18 0:48          \n",
      " case_closed_date     | 1/2/18 7:57          \n",
      " case_due_date        | 1/5/18 8:30          \n",
      " case_late            | false                \n",
      " num_days_late        | -3.022337963         \n",
      " case_closed          | true                 \n",
      " dept_division        | Storm Water          \n",
      " service_request_type | Removal Of Obstru... \n",
      " SLA_days             | 4.320729167          \n",
      " case_status          | Closed               \n",
      " source_id            | svcCRMSS             \n",
      " request_address      | 102  PALFREY ST W... \n",
      " council_district     | 003                  \n",
      "-RECORD 3------------------------------------\n",
      " case_id              | 1014127335           \n",
      " case_opened_date     | 1/1/18 1:29          \n",
      " case_closed_date     | 1/2/18 8:13          \n",
      " case_due_date        | 1/17/18 8:30         \n",
      " case_late            | false                \n",
      " num_days_late        | -15.01148148         \n",
      " case_closed          | true                 \n",
      " dept_division        | Code Enforcement     \n",
      " service_request_type | Front Or Side Yar... \n",
      " SLA_days             | 16.29188657          \n",
      " case_status          | Closed               \n",
      " source_id            | svcCRMSS             \n",
      " request_address      | 114  LA GARDE ST,... \n",
      " council_district     | 003                  \n",
      "-RECORD 4------------------------------------\n",
      " case_id              | 1014127336           \n",
      " case_opened_date     | 1/1/18 1:34          \n",
      " case_closed_date     | 1/1/18 13:29         \n",
      " case_due_date        | 1/1/18 4:34          \n",
      " case_late            | true                 \n",
      " num_days_late        | 0.37216435200000003  \n",
      " case_closed          | true                 \n",
      " dept_division        | Field Operations     \n",
      " service_request_type | Animal Cruelty(Cr... \n",
      " SLA_days             | 0.125                \n",
      " case_status          | Closed               \n",
      " source_id            | svcCRMSS             \n",
      " request_address      | 734  CLEARVIEW DR... \n",
      " council_district     | 007                  \n",
      "only showing top 5 rows\n",
      "\n"
     ]
    }
   ],
   "source": [
    "df.show(5, vertical=True)"
   ]
  },
  {
   "cell_type": "code",
   "execution_count": 16,
   "metadata": {},
   "outputs": [
    {
     "name": "stdout",
     "output_type": "stream",
     "text": [
      "+----------------+-----------------------------------------------+\n",
      "|case_opened_date|to_timestamp(`case_opened_date`, 'M/d/yy H:mm')|\n",
      "+----------------+-----------------------------------------------+\n",
      "|     1/1/18 0:42|                            2018-01-01 00:42:00|\n",
      "|     1/1/18 0:46|                            2018-01-01 00:46:00|\n",
      "|     1/1/18 0:48|                            2018-01-01 00:48:00|\n",
      "|     1/1/18 1:29|                            2018-01-01 01:29:00|\n",
      "|     1/1/18 1:34|                            2018-01-01 01:34:00|\n",
      "+----------------+-----------------------------------------------+\n",
      "only showing top 5 rows\n",
      "\n"
     ]
    }
   ],
   "source": [
    "fmt = \"M/d/yy H:mm\"\n",
    "\n",
    "df.select(\n",
    "    \"case_opened_date\",\n",
    "    to_timestamp(\"case_opened_date\", fmt)\n",
    ").show(5)"
   ]
  },
  {
   "cell_type": "code",
   "execution_count": 17,
   "metadata": {},
   "outputs": [],
   "source": [
    "df = df.withColumn(\"case_opened_date\", to_timestamp(\"case_opened_date\", fmt))\n",
    "df = df.withColumn(\"case_closed_date\", to_timestamp(\"case_closed_date\", fmt))\n",
    "df = df.withColumn(\"case_due_date\", to_timestamp(\"case_due_date\", fmt))"
   ]
  },
  {
   "cell_type": "code",
   "execution_count": 18,
   "metadata": {},
   "outputs": [
    {
     "name": "stdout",
     "output_type": "stream",
     "text": [
      "root\n",
      " |-- case_id: integer (nullable = true)\n",
      " |-- case_opened_date: timestamp (nullable = true)\n",
      " |-- case_closed_date: timestamp (nullable = true)\n",
      " |-- case_due_date: timestamp (nullable = true)\n",
      " |-- case_late: boolean (nullable = true)\n",
      " |-- num_days_late: double (nullable = true)\n",
      " |-- case_closed: boolean (nullable = true)\n",
      " |-- dept_division: string (nullable = true)\n",
      " |-- service_request_type: string (nullable = true)\n",
      " |-- SLA_days: double (nullable = true)\n",
      " |-- case_status: string (nullable = true)\n",
      " |-- source_id: string (nullable = true)\n",
      " |-- request_address: string (nullable = true)\n",
      " |-- council_district: string (nullable = false)\n",
      "\n",
      "-RECORD 0------------------------------------\n",
      " case_id              | 1014127332           \n",
      " case_opened_date     | 2018-01-01 00:42:00  \n",
      " case_closed_date     | 2018-01-01 12:29:00  \n",
      " case_due_date        | 2020-09-26 00:42:00  \n",
      " case_late            | false                \n",
      " num_days_late        | -998.5087616000001   \n",
      " case_closed          | true                 \n",
      " dept_division        | Field Operations     \n",
      " service_request_type | Stray Animal         \n",
      " SLA_days             | 999.0                \n",
      " case_status          | Closed               \n",
      " source_id            | svcCRMLS             \n",
      " request_address      | 2315  EL PASO ST,... \n",
      " council_district     | 005                  \n",
      "-RECORD 1------------------------------------\n",
      " case_id              | 1014127333           \n",
      " case_opened_date     | 2018-01-01 00:46:00  \n",
      " case_closed_date     | 2018-01-03 08:11:00  \n",
      " case_due_date        | 2018-01-05 08:30:00  \n",
      " case_late            | false                \n",
      " num_days_late        | -2.0126041669999997  \n",
      " case_closed          | true                 \n",
      " dept_division        | Storm Water          \n",
      " service_request_type | Removal Of Obstru... \n",
      " SLA_days             | 4.322222222          \n",
      " case_status          | Closed               \n",
      " source_id            | svcCRMSS             \n",
      " request_address      | 2215  GOLIAD RD, ... \n",
      " council_district     | 003                  \n",
      "-RECORD 2------------------------------------\n",
      " case_id              | 1014127334           \n",
      " case_opened_date     | 2018-01-01 00:48:00  \n",
      " case_closed_date     | 2018-01-02 07:57:00  \n",
      " case_due_date        | 2018-01-05 08:30:00  \n",
      " case_late            | false                \n",
      " num_days_late        | -3.022337963         \n",
      " case_closed          | true                 \n",
      " dept_division        | Storm Water          \n",
      " service_request_type | Removal Of Obstru... \n",
      " SLA_days             | 4.320729167          \n",
      " case_status          | Closed               \n",
      " source_id            | svcCRMSS             \n",
      " request_address      | 102  PALFREY ST W... \n",
      " council_district     | 003                  \n",
      "only showing top 3 rows\n",
      "\n"
     ]
    }
   ],
   "source": [
    "df.printSchema()\n",
    "df.show(3, vertical=True)"
   ]
  },
  {
   "cell_type": "code",
   "execution_count": 19,
   "metadata": {},
   "outputs": [
    {
     "name": "stdout",
     "output_type": "stream",
     "text": [
      "== Physical Plan ==\n",
      "*(1) Project [case_id#62, gettimestamp(case_opened_date#63, M/d/yy H:mm, Some(America/Chicago)) AS case_opened_date#425, gettimestamp(case_closed_date#64, M/d/yy H:mm, Some(America/Chicago)) AS case_closed_date#440, gettimestamp(SLA_due_date#65, M/d/yy H:mm, Some(America/Chicago)) AS case_due_date#455, (case_late#66 = YES) AS case_late#212, num_days_late#67, (case_closed#68 = YES) AS case_closed#227, dept_division#69, service_request_type#70, SLA_days#71, case_status#72, source_id#73, request_address#74, format_string(%03d, council_district#75) AS council_district#326]\n",
      "+- FileScan csv [case_id#62,case_opened_date#63,case_closed_date#64,SLA_due_date#65,case_late#66,num_days_late#67,case_closed#68,dept_division#69,service_request_type#70,SLA_days#71,case_status#72,source_id#73,request_address#74,council_district#75] Batched: false, DataFilters: [], Format: CSV, Location: InMemoryFileIndex[file:/Users/cryptobandido/codeup-data-science/spark-exercises/data/case.csv], PartitionFilters: [], PushedFilters: [], ReadSchema: struct<case_id:int,case_opened_date:string,case_closed_date:string,SLA_due_date:string,case_late:...\n",
      "\n",
      "\n"
     ]
    }
   ],
   "source": [
    "df.explain()"
   ]
  },
  {
   "cell_type": "code",
   "execution_count": 20,
   "metadata": {},
   "outputs": [
    {
     "name": "stdout",
     "output_type": "stream",
     "text": [
      "+----------------------------------------+----------------------------------------+\n",
      "|request_address                         |lower(trim(request_address))            |\n",
      "+----------------------------------------+----------------------------------------+\n",
      "|2315  EL PASO ST, San Antonio, 78207    |2315  el paso st, san antonio, 78207    |\n",
      "|2215  GOLIAD RD, San Antonio, 78223     |2215  goliad rd, san antonio, 78223     |\n",
      "|102  PALFREY ST W, San Antonio, 78223   |102  palfrey st w, san antonio, 78223   |\n",
      "|114  LA GARDE ST, San Antonio, 78223    |114  la garde st, san antonio, 78223    |\n",
      "|734  CLEARVIEW DR, San Antonio, 78228   |734  clearview dr, san antonio, 78228   |\n",
      "|BANDERA RD and BRESNAHAN                |bandera rd and bresnahan                |\n",
      "|10133  FIGARO CANYON, San Antonio, 78251|10133  figaro canyon, san antonio, 78251|\n",
      "|10133  FIGARO CANYON, San Antonio, 78251|10133  figaro canyon, san antonio, 78251|\n",
      "|10133  FIGARO CANYON, San Antonio, 78251|10133  figaro canyon, san antonio, 78251|\n",
      "|10133  FIGARO CANYON, San Antonio, 78251|10133  figaro canyon, san antonio, 78251|\n",
      "|10133  FIGARO CANYON, San Antonio, 78251|10133  figaro canyon, san antonio, 78251|\n",
      "|10133  FIGARO CANYON, San Antonio, 78251|10133  figaro canyon, san antonio, 78251|\n",
      "|10129  BOXING PASS, San Antonio, 78251  |10129  boxing pass, san antonio, 78251  |\n",
      "|10129  BOXING PASS, San Antonio, 78251  |10129  boxing pass, san antonio, 78251  |\n",
      "|10129  BOXING PASS, San Antonio, 78251  |10129  boxing pass, san antonio, 78251  |\n",
      "|834  BARREL POINT, San Antonio, 78251   |834  barrel point, san antonio, 78251   |\n",
      "|834  BARREL POINT, San Antonio, 78251   |834  barrel point, san antonio, 78251   |\n",
      "|834  BARREL POINT, San Antonio, 78251   |834  barrel point, san antonio, 78251   |\n",
      "|834  BARREL POINT, San Antonio, 78251   |834  barrel point, san antonio, 78251   |\n",
      "|834  BARREL POINT, San Antonio, 78251   |834  barrel point, san antonio, 78251   |\n",
      "+----------------------------------------+----------------------------------------+\n",
      "only showing top 20 rows\n",
      "\n"
     ]
    }
   ],
   "source": [
    "df.select(\n",
    "    col(\"request_address\"),\n",
    "    lower(trim(\"request_address\"))\n",
    ").show(truncate=False)"
   ]
  },
  {
   "cell_type": "code",
   "execution_count": 21,
   "metadata": {},
   "outputs": [],
   "source": [
    "df = df.withColumn(\"request_address\", lower(trim(\"request_address\")))"
   ]
  },
  {
   "cell_type": "code",
   "execution_count": 22,
   "metadata": {},
   "outputs": [
    {
     "name": "stdout",
     "output_type": "stream",
     "text": [
      "root\n",
      " |-- case_id: integer (nullable = true)\n",
      " |-- case_opened_date: timestamp (nullable = true)\n",
      " |-- case_closed_date: timestamp (nullable = true)\n",
      " |-- case_due_date: timestamp (nullable = true)\n",
      " |-- case_late: boolean (nullable = true)\n",
      " |-- num_days_late: double (nullable = true)\n",
      " |-- case_closed: boolean (nullable = true)\n",
      " |-- dept_division: string (nullable = true)\n",
      " |-- service_request_type: string (nullable = true)\n",
      " |-- SLA_days: double (nullable = true)\n",
      " |-- case_status: string (nullable = true)\n",
      " |-- source_id: string (nullable = true)\n",
      " |-- request_address: string (nullable = true)\n",
      " |-- council_district: string (nullable = false)\n",
      "\n",
      "-RECORD 0-----------------------------------------------------\n",
      " case_id              | 1014127332                            \n",
      " case_opened_date     | 2018-01-01 00:42:00                   \n",
      " case_closed_date     | 2018-01-01 12:29:00                   \n",
      " case_due_date        | 2020-09-26 00:42:00                   \n",
      " case_late            | false                                 \n",
      " num_days_late        | -998.5087616000001                    \n",
      " case_closed          | true                                  \n",
      " dept_division        | Field Operations                      \n",
      " service_request_type | Stray Animal                          \n",
      " SLA_days             | 999.0                                 \n",
      " case_status          | Closed                                \n",
      " source_id            | svcCRMLS                              \n",
      " request_address      | 2315  el paso st, san antonio, 78207  \n",
      " council_district     | 005                                   \n",
      "-RECORD 1-----------------------------------------------------\n",
      " case_id              | 1014127333                            \n",
      " case_opened_date     | 2018-01-01 00:46:00                   \n",
      " case_closed_date     | 2018-01-03 08:11:00                   \n",
      " case_due_date        | 2018-01-05 08:30:00                   \n",
      " case_late            | false                                 \n",
      " num_days_late        | -2.0126041669999997                   \n",
      " case_closed          | true                                  \n",
      " dept_division        | Storm Water                           \n",
      " service_request_type | Removal Of Obstruction                \n",
      " SLA_days             | 4.322222222                           \n",
      " case_status          | Closed                                \n",
      " source_id            | svcCRMSS                              \n",
      " request_address      | 2215  goliad rd, san antonio, 78223   \n",
      " council_district     | 003                                   \n",
      "-RECORD 2-----------------------------------------------------\n",
      " case_id              | 1014127334                            \n",
      " case_opened_date     | 2018-01-01 00:48:00                   \n",
      " case_closed_date     | 2018-01-02 07:57:00                   \n",
      " case_due_date        | 2018-01-05 08:30:00                   \n",
      " case_late            | false                                 \n",
      " num_days_late        | -3.022337963                          \n",
      " case_closed          | true                                  \n",
      " dept_division        | Storm Water                           \n",
      " service_request_type | Removal Of Obstruction                \n",
      " SLA_days             | 4.320729167                           \n",
      " case_status          | Closed                                \n",
      " source_id            | svcCRMSS                              \n",
      " request_address      | 102  palfrey st w, san antonio, 78223 \n",
      " council_district     | 003                                   \n",
      "only showing top 3 rows\n",
      "\n"
     ]
    }
   ],
   "source": [
    "df.printSchema()\n",
    "df.show(3, vertical=True, truncate=False)"
   ]
  },
  {
   "cell_type": "code",
   "execution_count": 23,
   "metadata": {},
   "outputs": [
    {
     "name": "stdout",
     "output_type": "stream",
     "text": [
      "+----------------------------------------+------------------------------------------+\n",
      "|request_address                         |regexp_extract(request_address, (\\d+)$, 1)|\n",
      "+----------------------------------------+------------------------------------------+\n",
      "|2315  el paso st, san antonio, 78207    |78207                                     |\n",
      "|2215  goliad rd, san antonio, 78223     |78223                                     |\n",
      "|102  palfrey st w, san antonio, 78223   |78223                                     |\n",
      "|114  la garde st, san antonio, 78223    |78223                                     |\n",
      "|734  clearview dr, san antonio, 78228   |78228                                     |\n",
      "|bandera rd and bresnahan                |                                          |\n",
      "|10133  figaro canyon, san antonio, 78251|78251                                     |\n",
      "|10133  figaro canyon, san antonio, 78251|78251                                     |\n",
      "|10133  figaro canyon, san antonio, 78251|78251                                     |\n",
      "|10133  figaro canyon, san antonio, 78251|78251                                     |\n",
      "|10133  figaro canyon, san antonio, 78251|78251                                     |\n",
      "|10133  figaro canyon, san antonio, 78251|78251                                     |\n",
      "|10129  boxing pass, san antonio, 78251  |78251                                     |\n",
      "|10129  boxing pass, san antonio, 78251  |78251                                     |\n",
      "|10129  boxing pass, san antonio, 78251  |78251                                     |\n",
      "|834  barrel point, san antonio, 78251   |78251                                     |\n",
      "|834  barrel point, san antonio, 78251   |78251                                     |\n",
      "|834  barrel point, san antonio, 78251   |78251                                     |\n",
      "|834  barrel point, san antonio, 78251   |78251                                     |\n",
      "|834  barrel point, san antonio, 78251   |78251                                     |\n",
      "+----------------------------------------+------------------------------------------+\n",
      "only showing top 20 rows\n",
      "\n"
     ]
    }
   ],
   "source": [
    "df.select(\n",
    "    \"request_address\",\n",
    "    regexp_extract(\"request_address\", r\"(\\d+)$\", 1)\n",
    ").show(truncate=False)"
   ]
  },
  {
   "cell_type": "code",
   "execution_count": 24,
   "metadata": {},
   "outputs": [],
   "source": [
    "df = df.withColumn(\"zipcode\", regexp_extract(\"request_address\", r\"(\\d+)$\", 1))\n"
   ]
  },
  {
   "cell_type": "code",
   "execution_count": 25,
   "metadata": {},
   "outputs": [
    {
     "data": {
      "text/plain": [
       "DataFrame[case_id: int, case_opened_date: timestamp, case_closed_date: timestamp, case_due_date: timestamp, case_late: boolean, num_days_late: double, case_closed: boolean, dept_division: string, service_request_type: string, SLA_days: double, case_status: string, source_id: string, request_address: string, council_district: string, zipcode: string]"
      ]
     },
     "execution_count": 25,
     "metadata": {},
     "output_type": "execute_result"
    }
   ],
   "source": [
    "df"
   ]
  },
  {
   "cell_type": "code",
   "execution_count": 26,
   "metadata": {},
   "outputs": [
    {
     "name": "stdout",
     "output_type": "stream",
     "text": [
      "-RECORD 0------------------------------------\n",
      " case_id              | 1014127332           \n",
      " case_opened_date     | 2018-01-01 00:42:00  \n",
      " case_closed_date     | 2018-01-01 12:29:00  \n",
      " case_due_date        | 2020-09-26 00:42:00  \n",
      " case_late            | false                \n",
      " num_days_late        | -998.5087616000001   \n",
      " case_closed          | true                 \n",
      " dept_division        | Field Operations     \n",
      " service_request_type | Stray Animal         \n",
      " SLA_days             | 999.0                \n",
      " case_status          | Closed               \n",
      " source_id            | svcCRMLS             \n",
      " request_address      | 2315  el paso st,... \n",
      " council_district     | 005                  \n",
      " zipcode              | 78207                \n",
      "-RECORD 1------------------------------------\n",
      " case_id              | 1014127333           \n",
      " case_opened_date     | 2018-01-01 00:46:00  \n",
      " case_closed_date     | 2018-01-03 08:11:00  \n",
      " case_due_date        | 2018-01-05 08:30:00  \n",
      " case_late            | false                \n",
      " num_days_late        | -2.0126041669999997  \n",
      " case_closed          | true                 \n",
      " dept_division        | Storm Water          \n",
      " service_request_type | Removal Of Obstru... \n",
      " SLA_days             | 4.322222222          \n",
      " case_status          | Closed               \n",
      " source_id            | svcCRMSS             \n",
      " request_address      | 2215  goliad rd, ... \n",
      " council_district     | 003                  \n",
      " zipcode              | 78223                \n",
      "-RECORD 2------------------------------------\n",
      " case_id              | 1014127334           \n",
      " case_opened_date     | 2018-01-01 00:48:00  \n",
      " case_closed_date     | 2018-01-02 07:57:00  \n",
      " case_due_date        | 2018-01-05 08:30:00  \n",
      " case_late            | false                \n",
      " num_days_late        | -3.022337963         \n",
      " case_closed          | true                 \n",
      " dept_division        | Storm Water          \n",
      " service_request_type | Removal Of Obstru... \n",
      " SLA_days             | 4.320729167          \n",
      " case_status          | Closed               \n",
      " source_id            | svcCRMSS             \n",
      " request_address      | 102  palfrey st w... \n",
      " council_district     | 003                  \n",
      " zipcode              | 78223                \n",
      "-RECORD 3------------------------------------\n",
      " case_id              | 1014127335           \n",
      " case_opened_date     | 2018-01-01 01:29:00  \n",
      " case_closed_date     | 2018-01-02 08:13:00  \n",
      " case_due_date        | 2018-01-17 08:30:00  \n",
      " case_late            | false                \n",
      " num_days_late        | -15.01148148         \n",
      " case_closed          | true                 \n",
      " dept_division        | Code Enforcement     \n",
      " service_request_type | Front Or Side Yar... \n",
      " SLA_days             | 16.29188657          \n",
      " case_status          | Closed               \n",
      " source_id            | svcCRMSS             \n",
      " request_address      | 114  la garde st,... \n",
      " council_district     | 003                  \n",
      " zipcode              | 78223                \n",
      "-RECORD 4------------------------------------\n",
      " case_id              | 1014127336           \n",
      " case_opened_date     | 2018-01-01 01:34:00  \n",
      " case_closed_date     | 2018-01-01 13:29:00  \n",
      " case_due_date        | 2018-01-01 04:34:00  \n",
      " case_late            | true                 \n",
      " num_days_late        | 0.37216435200000003  \n",
      " case_closed          | true                 \n",
      " dept_division        | Field Operations     \n",
      " service_request_type | Animal Cruelty(Cr... \n",
      " SLA_days             | 0.125                \n",
      " case_status          | Closed               \n",
      " source_id            | svcCRMSS             \n",
      " request_address      | 734  clearview dr... \n",
      " council_district     | 007                  \n",
      " zipcode              | 78228                \n",
      "only showing top 5 rows\n",
      "\n"
     ]
    }
   ],
   "source": [
    "df.show(5, vertical=True)"
   ]
  },
  {
   "cell_type": "code",
   "execution_count": 27,
   "metadata": {},
   "outputs": [
    {
     "name": "stdout",
     "output_type": "stream",
     "text": [
      "+-------------------+-------------------+-----------+--------+-------------+-------------+\n",
      "|   case_opened_date|   case_closed_date|case_closed|case_age|days_to_close|case_lifetime|\n",
      "+-------------------+-------------------+-----------+--------+-------------+-------------+\n",
      "|2018-01-01 00:42:00|2018-01-01 12:29:00|       true|    1065|            0|            0|\n",
      "|2018-01-01 00:46:00|2018-01-03 08:11:00|       true|    1065|            2|            2|\n",
      "|2018-01-01 00:48:00|2018-01-02 07:57:00|       true|    1065|            1|            1|\n",
      "|2018-01-01 01:29:00|2018-01-02 08:13:00|       true|    1065|            1|            1|\n",
      "|2018-01-01 01:34:00|2018-01-01 13:29:00|       true|    1065|            0|            0|\n",
      "|2018-01-01 06:28:00|2018-01-01 14:38:00|       true|    1065|            0|            0|\n",
      "|2018-01-01 06:57:00|2018-01-02 15:32:00|       true|    1065|            1|            1|\n",
      "|2018-01-01 06:58:00|2018-01-02 15:32:00|       true|    1065|            1|            1|\n",
      "|2018-01-01 06:58:00|2018-01-02 15:32:00|       true|    1065|            1|            1|\n",
      "|2018-01-01 06:59:00|2018-01-02 15:32:00|       true|    1065|            1|            1|\n",
      "+-------------------+-------------------+-----------+--------+-------------+-------------+\n",
      "only showing top 10 rows\n",
      "\n"
     ]
    }
   ],
   "source": [
    "# case_lifetime\n",
    "#   - if case is closed then diff between close and open dates -- days_to_close\n",
    "#   - else diff between open date and now -- case_age\n",
    "\n",
    "df.select(\n",
    "    \"case_opened_date\",\n",
    "    \"case_closed_date\",\n",
    "    \"case_closed\",\n",
    "    datediff(current_timestamp(), \"case_opened_date\").alias(\"case_age\"),\n",
    "    datediff(\"case_closed_date\", \"case_opened_date\").alias(\"days_to_close\"),\n",
    ").withColumn(\n",
    "    \"case_lifetime\",\n",
    "    when(col(\"case_closed\"), col(\"days_to_close\")).otherwise(col(\"case_age\")),\n",
    ").show(10)\n"
   ]
  },
  {
   "cell_type": "code",
   "execution_count": 28,
   "metadata": {},
   "outputs": [],
   "source": [
    "df = df.withColumn(\"case_age\", datediff(current_timestamp(), \"case_opened_date\"))\n",
    "df = df.withColumn(\"days_to_close\", datediff(\"case_closed_date\", \"case_opened_date\"))\n",
    "df = df.withColumn(\"case_lifetime\", when(col(\"case_closed\"), col(\"days_to_close\")).otherwise(col(\"case_age\")))"
   ]
  },
  {
   "cell_type": "code",
   "execution_count": 29,
   "metadata": {},
   "outputs": [],
   "source": [
    "depts = spark.read.csv('data/dept.csv', header=True, inferSchema=True)\n",
    "sources = spark.read.csv('data/source.csv', header=True, inferSchema=True)\n",
    "\n",
    "df = df.join(depts, 'dept_division', 'left').join(sources, 'source_id', 'left')"
   ]
  },
  {
   "cell_type": "code",
   "execution_count": 30,
   "metadata": {},
   "outputs": [
    {
     "name": "stdout",
     "output_type": "stream",
     "text": [
      "+---------+----------------+----------+-------------------+-------------------+-------------------+---------+-------------------+-----------+--------------------+------------------+-----------+--------------------+----------------+-------+--------+-------------+-------------+--------------------+----------------------+-------------------+---------------+\n",
      "|source_id|   dept_division|   case_id|   case_opened_date|   case_closed_date|      case_due_date|case_late|      num_days_late|case_closed|service_request_type|          SLA_days|case_status|     request_address|council_district|zipcode|case_age|days_to_close|case_lifetime|           dept_name|standardized_dept_name|dept_subject_to_SLA|source_username|\n",
      "+---------+----------------+----------+-------------------+-------------------+-------------------+---------+-------------------+-----------+--------------------+------------------+-----------+--------------------+----------------+-------+--------+-------------+-------------+--------------------+----------------------+-------------------+---------------+\n",
      "| svcCRMLS|Field Operations|1014127332|2018-01-01 00:42:00|2018-01-01 12:29:00|2020-09-26 00:42:00|    false| -998.5087616000001|       true|        Stray Animal|             999.0|     Closed|2315  el paso st,...|             005|  78207|    1065|            0|            0|Animal Care Services|  Animal Care Services|                YES|       svcCRMLS|\n",
      "| svcCRMSS|     Storm Water|1014127333|2018-01-01 00:46:00|2018-01-03 08:11:00|2018-01-05 08:30:00|    false|-2.0126041669999997|       true|Removal Of Obstru...|       4.322222222|     Closed|2215  goliad rd, ...|             003|  78223|    1065|            2|            2|Trans & Cap Impro...|  Trans & Cap Impro...|                YES|       svcCRMSS|\n",
      "| svcCRMSS|     Storm Water|1014127334|2018-01-01 00:48:00|2018-01-02 07:57:00|2018-01-05 08:30:00|    false|       -3.022337963|       true|Removal Of Obstru...|       4.320729167|     Closed|102  palfrey st w...|             003|  78223|    1065|            1|            1|Trans & Cap Impro...|  Trans & Cap Impro...|                YES|       svcCRMSS|\n",
      "| svcCRMSS|Code Enforcement|1014127335|2018-01-01 01:29:00|2018-01-02 08:13:00|2018-01-17 08:30:00|    false|       -15.01148148|       true|Front Or Side Yar...|       16.29188657|     Closed|114  la garde st,...|             003|  78223|    1065|            1|            1|Code Enforcement ...|  DSD/Code Enforcement|                YES|       svcCRMSS|\n",
      "| svcCRMSS|Field Operations|1014127336|2018-01-01 01:34:00|2018-01-01 13:29:00|2018-01-01 04:34:00|     true|0.37216435200000003|       true|Animal Cruelty(Cr...|             0.125|     Closed|734  clearview dr...|             007|  78228|    1065|            0|            0|Animal Care Services|  Animal Care Services|                YES|       svcCRMSS|\n",
      "| svcCRMSS|         Signals|1014127337|2018-01-01 06:28:00|2018-01-01 14:38:00|2018-01-31 08:30:00|    false|       -29.74398148|       true|Traffic Signal Op...|       30.08446759|     Closed|bandera rd and br...|             007|       |    1065|            0|            0|Trans & Cap Impro...|  Trans & Cap Impro...|                YES|       svcCRMSS|\n",
      "| svcCRMSS|Code Enforcement|1014127338|2018-01-01 06:57:00|2018-01-02 15:32:00|2018-01-17 08:30:00|    false|       -14.70673611|       true|Front Or Side Yar...|       16.06429398|     Closed|10133  figaro can...|             004|  78251|    1065|            1|            1|Code Enforcement ...|  DSD/Code Enforcement|                YES|       svcCRMSS|\n",
      "| svcCRMSS|Code Enforcement|1014127339|2018-01-01 06:58:00|2018-01-02 15:32:00|2018-01-17 08:30:00|    false|       -14.70662037|       true|Front Or Side Yar...|16.063796300000003|     Closed|10133  figaro can...|             004|  78251|    1065|            1|            1|Code Enforcement ...|  DSD/Code Enforcement|                YES|       svcCRMSS|\n",
      "| svcCRMSS|Code Enforcement|1014127340|2018-01-01 06:58:00|2018-01-02 15:32:00|2018-01-17 08:30:00|    false|       -14.70662037|       true|Right Of Way/Side...|       16.06333333|     Closed|10133  figaro can...|             004|  78251|    1065|            1|            1|Code Enforcement ...|  DSD/Code Enforcement|                YES|       svcCRMSS|\n",
      "| svcCRMSS|Code Enforcement|1014127341|2018-01-01 06:59:00|2018-01-02 15:32:00|2018-01-17 08:30:00|    false|       -14.70649306|       true|Front Or Side Yar...|        16.0628588|     Closed|10133  figaro can...|             004|  78251|    1065|            1|            1|Code Enforcement ...|  DSD/Code Enforcement|                YES|       svcCRMSS|\n",
      "| svcCRMSS|Code Enforcement|1014127342|2018-01-01 07:00:00|2018-01-02 15:32:00|2018-01-17 08:30:00|    false|       -14.70649306|       true|Front Or Side Yar...|       16.06237269|     Closed|10133  figaro can...|             004|  78251|    1065|            1|            1|Code Enforcement ...|  DSD/Code Enforcement|                YES|       svcCRMSS|\n",
      "| svcCRMSS|Code Enforcement|1014127343|2018-01-01 07:02:00|2018-01-02 15:32:00|2018-01-17 08:30:00|    false|       -14.70636574|       true|Right Of Way/Side...|       16.06104167|     Closed|10133  figaro can...|             004|  78251|    1065|            1|            1|Code Enforcement ...|  DSD/Code Enforcement|                YES|       svcCRMSS|\n",
      "| svcCRMSS|Code Enforcement|1014127344|2018-01-01 07:02:00|2018-01-02 15:33:00|2018-01-17 08:30:00|    false|          -14.70625|       true|Front Or Side Yar...|       16.06059028|     Closed|10129  boxing pas...|             004|  78251|    1065|            1|            1|Code Enforcement ...|  DSD/Code Enforcement|                YES|       svcCRMSS|\n",
      "| svcCRMSS|Code Enforcement|1014127345|2018-01-01 07:03:00|2018-01-02 15:32:00|2018-01-17 08:30:00|    false|       -14.70636574|       true|Front Or Side Yar...|       16.06011574|     Closed|10129  boxing pas...|             004|  78251|    1065|            1|            1|Code Enforcement ...|  DSD/Code Enforcement|                YES|       svcCRMSS|\n",
      "| svcCRMSS|Code Enforcement|1014127346|2018-01-01 07:04:00|2018-01-02 15:33:00|2018-01-17 08:30:00|    false|       -14.70623843|       true|Right Of Way/Side...|       16.05953704|     Closed|10129  boxing pas...|             004|  78251|    1065|            1|            1|Code Enforcement ...|  DSD/Code Enforcement|                YES|       svcCRMSS|\n",
      "| svcCRMSS|Code Enforcement|1014127347|2018-01-01 07:04:00|2018-01-02 15:33:00|2018-01-17 08:30:00|    false|-14.705891199999998|       true|Front Or Side Yar...|       16.05907407|     Closed|834  barrel point...|             004|  78251|    1065|            1|            1|Code Enforcement ...|  DSD/Code Enforcement|                YES|       svcCRMSS|\n",
      "| svcCRMSS|Code Enforcement|1014127348|2018-01-01 07:05:00|2018-01-02 15:33:00|2018-01-17 08:30:00|    false|       -14.70600694|       true|Front Or Side Yar...|       16.05864583|     Closed|834  barrel point...|             004|  78251|    1065|            1|            1|Code Enforcement ...|  DSD/Code Enforcement|                YES|       svcCRMSS|\n",
      "| svcCRMSS|Code Enforcement|1014127349|2018-01-01 07:06:00|2018-01-02 15:33:00|2018-01-17 08:30:00|    false|       -14.70576389|       true|Right Of Way/Side...|       16.05819444|     Closed|834  barrel point...|             004|  78251|    1065|            1|            1|Code Enforcement ...|  DSD/Code Enforcement|                YES|       svcCRMSS|\n",
      "| svcCRMSS|Code Enforcement|1014127350|2018-01-01 07:06:00|2018-01-02 15:33:00|2018-01-17 08:30:00|    false|       -14.70576389|       true|Front Or Side Yar...|       16.05775463|     Closed|834  barrel point...|             004|  78251|    1065|            1|            1|Code Enforcement ...|  DSD/Code Enforcement|                YES|       svcCRMSS|\n",
      "| svcCRMSS|Code Enforcement|1014127351|2018-01-01 07:07:00|2018-01-02 15:33:00|2018-01-17 08:30:00|    false|       -14.70564815|       true|Front Or Side Yar...|       16.05733796|     Closed|834  barrel point...|             004|  78251|    1065|            1|            1|Code Enforcement ...|  DSD/Code Enforcement|                YES|       svcCRMSS|\n",
      "+---------+----------------+----------+-------------------+-------------------+-------------------+---------+-------------------+-----------+--------------------+------------------+-----------+--------------------+----------------+-------+--------+-------------+-------------+--------------------+----------------------+-------------------+---------------+\n",
      "only showing top 20 rows\n",
      "\n"
     ]
    }
   ],
   "source": [
    "df.show()"
   ]
  },
  {
   "cell_type": "markdown",
   "metadata": {},
   "source": [
    "### 1. How old is the latest (in terms of days past SLA) currently open issue? How long has the oldest (in terms of days since opened) currently opened issue been open?"
   ]
  },
  {
   "cell_type": "code",
   "execution_count": 32,
   "metadata": {},
   "outputs": [],
   "source": [
    "# this is so we can query our dataframe with spark sql\n",
    "df.createOrReplaceTempView('df')"
   ]
  },
  {
   "cell_type": "code",
   "execution_count": 33,
   "metadata": {},
   "outputs": [
    {
     "name": "stdout",
     "output_type": "stream",
     "text": [
      "+-------------+\n",
      "|days_past_due|\n",
      "+-------------+\n",
      "|         1414|\n",
      "|         1414|\n",
      "|         1414|\n",
      "|         1413|\n",
      "|         1411|\n",
      "|         1407|\n",
      "|         1407|\n",
      "|         1406|\n",
      "|         1405|\n",
      "|         1405|\n",
      "|         1401|\n",
      "|         1400|\n",
      "|         1400|\n",
      "|         1400|\n",
      "|         1397|\n",
      "+-------------+\n",
      "\n"
     ]
    }
   ],
   "source": [
    "spark.sql('''\n",
    "SELECT DATEDIFF(current_timestamp, case_due_date) AS days_past_due\n",
    "FROM df\n",
    "WHERE NOT case_closed\n",
    "ORDER BY days_past_due DESC\n",
    "LIMIT 15\n",
    "''').show()"
   ]
  },
  {
   "cell_type": "markdown",
   "metadata": {},
   "source": [
    "### 2. How many Stray Animal cases are there?"
   ]
  },
  {
   "cell_type": "code",
   "execution_count": 34,
   "metadata": {},
   "outputs": [
    {
     "data": {
      "text/plain": [
       "27361"
      ]
     },
     "execution_count": 34,
     "metadata": {},
     "output_type": "execute_result"
    }
   ],
   "source": [
    "df.filter(df.service_request_type == 'Stray Animal').count()"
   ]
  },
  {
   "cell_type": "code",
   "execution_count": 35,
   "metadata": {},
   "outputs": [
    {
     "name": "stdout",
     "output_type": "stream",
     "text": [
      "+--------------------+-----+\n",
      "|service_request_type|count|\n",
      "+--------------------+-----+\n",
      "|        Stray Animal|27361|\n",
      "+--------------------+-----+\n",
      "\n"
     ]
    }
   ],
   "source": [
    "(\n",
    "    df.groupBy('service_request_type')\n",
    "    .count()\n",
    "    .filter(expr('service_request_type == \"Stray Animal\"'))\n",
    "    .show()\n",
    ")"
   ]
  },
  {
   "cell_type": "markdown",
   "metadata": {},
   "source": [
    "### 3. How many service requests that are assigned to the Field Operations department (dept_division) are not classified as \"Officer Standby\" request type (service_request_type)?"
   ]
  },
  {
   "cell_type": "code",
   "execution_count": 36,
   "metadata": {},
   "outputs": [
    {
     "data": {
      "text/plain": [
       "116295"
      ]
     },
     "execution_count": 36,
     "metadata": {},
     "output_type": "execute_result"
    }
   ],
   "source": [
    "(\n",
    "    df.filter(df.dept_division == 'Field Operations')\n",
    "    .filter(df.service_request_type != 'Officer Standby')\n",
    "    .count()\n",
    ")"
   ]
  },
  {
   "cell_type": "code",
   "execution_count": 37,
   "metadata": {},
   "outputs": [
    {
     "data": {
      "text/plain": [
       "116295"
      ]
     },
     "execution_count": 37,
     "metadata": {},
     "output_type": "execute_result"
    }
   ],
   "source": [
    "# instructors way\n",
    "\n",
    "(\n",
    "    df.filter(expr(\"dept_division == 'Field Operations'\"))\n",
    "    .filter(expr('service_request_type != \"Officer Standby\"'))\n",
    "    .count()\n",
    ")"
   ]
  },
  {
   "cell_type": "markdown",
   "metadata": {},
   "source": [
    "### 4. Convert the council_district column to a string column."
   ]
  },
  {
   "cell_type": "code",
   "execution_count": null,
   "metadata": {},
   "outputs": [],
   "source": [
    "# Already did this in the prep above from the lesson"
   ]
  },
  {
   "cell_type": "markdown",
   "metadata": {},
   "source": [
    "### 5. Extract the year from the case_closed_date column."
   ]
  },
  {
   "cell_type": "code",
   "execution_count": 38,
   "metadata": {},
   "outputs": [
    {
     "name": "stdout",
     "output_type": "stream",
     "text": [
      "+-------------------+----------------------+\n",
      "|   case_closed_date|year(case_closed_date)|\n",
      "+-------------------+----------------------+\n",
      "|2018-01-01 12:29:00|                  2018|\n",
      "|2018-01-03 08:11:00|                  2018|\n",
      "|2018-01-02 07:57:00|                  2018|\n",
      "|2018-01-02 08:13:00|                  2018|\n",
      "|2018-01-01 13:29:00|                  2018|\n",
      "+-------------------+----------------------+\n",
      "only showing top 5 rows\n",
      "\n"
     ]
    }
   ],
   "source": [
    "df.select('case_closed_date', year('case_closed_date')).show(5)"
   ]
  },
  {
   "cell_type": "markdown",
   "metadata": {},
   "source": [
    "### 6. Convert num_days_late from days to hours in new columns num_hours_late."
   ]
  },
  {
   "cell_type": "code",
   "execution_count": 39,
   "metadata": {},
   "outputs": [
    {
     "name": "stdout",
     "output_type": "stream",
     "text": [
      "+-------------------+-------------------+\n",
      "|      num_days_late|     num_hours_late|\n",
      "+-------------------+-------------------+\n",
      "| -998.5087616000001|     -23964.2102784|\n",
      "|-2.0126041669999997|-48.302500007999996|\n",
      "|       -3.022337963|      -72.536111112|\n",
      "|       -15.01148148|      -360.27555552|\n",
      "|0.37216435200000003|  8.931944448000001|\n",
      "|       -29.74398148| -713.8555555199999|\n",
      "|       -14.70673611|      -352.96166664|\n",
      "|       -14.70662037|      -352.95888888|\n",
      "|       -14.70662037|      -352.95888888|\n",
      "|       -14.70649306|      -352.95583344|\n",
      "|       -14.70649306|      -352.95583344|\n",
      "|       -14.70636574|      -352.95277776|\n",
      "|          -14.70625|-352.95000000000005|\n",
      "|       -14.70636574|      -352.95277776|\n",
      "|       -14.70623843|-352.94972232000003|\n",
      "|-14.705891199999998|-352.94138879999997|\n",
      "|       -14.70600694|      -352.94416656|\n",
      "|       -14.70576389|      -352.93833336|\n",
      "|       -14.70576389|      -352.93833336|\n",
      "|       -14.70564815|       -352.9355556|\n",
      "+-------------------+-------------------+\n",
      "only showing top 20 rows\n",
      "\n"
     ]
    }
   ],
   "source": [
    "(\n",
    "    df.withColumn('num_hours_late', df.num_days_late * 24)\n",
    "    .select('num_days_late', 'num_hours_late')\n",
    "    .show()\n",
    ")"
   ]
  },
  {
   "cell_type": "markdown",
   "metadata": {},
   "source": [
    "### 7. Join the case data with the source and department data."
   ]
  },
  {
   "cell_type": "code",
   "execution_count": 40,
   "metadata": {},
   "outputs": [
    {
     "name": "stdout",
     "output_type": "stream",
     "text": [
      "+---------+--------------------+\n",
      "|source_id|     source_username|\n",
      "+---------+--------------------+\n",
      "|   100137|    Merlene Blodgett|\n",
      "|   103582|         Carmen Cura|\n",
      "|   106463|     Richard Sanchez|\n",
      "|   119403|      Betty De Hoyos|\n",
      "|   119555|      Socorro Quiara|\n",
      "|   119868| Michelle San Miguel|\n",
      "|   120752|      Eva T. Kleiber|\n",
      "|   124405|           Lori Lara|\n",
      "|   132408|       Leonard Silva|\n",
      "|   135723|        Amy Cardenas|\n",
      "|   136202|    Michelle Urrutia|\n",
      "|   136979|      Leticia Garcia|\n",
      "|   137943|    Pamela K. Baccus|\n",
      "|   138605|        Marisa Ozuna|\n",
      "|   138650|      Kimberly Green|\n",
      "|   138650|Kimberly Green-Woods|\n",
      "|   138793| Guadalupe Rodriguez|\n",
      "|   138810|       Tawona Martin|\n",
      "|   139342|     Jessica Mendoza|\n",
      "|   139344|        Isis Mendoza|\n",
      "+---------+--------------------+\n",
      "only showing top 20 rows\n",
      "\n"
     ]
    }
   ],
   "source": [
    "# already done in the prep above\n",
    "\n",
    "sources.show()"
   ]
  },
  {
   "cell_type": "markdown",
   "metadata": {},
   "source": [
    "### 8. Are there any cases that do not have a request source?"
   ]
  },
  {
   "cell_type": "code",
   "execution_count": 41,
   "metadata": {},
   "outputs": [
    {
     "name": "stdout",
     "output_type": "stream",
     "text": [
      "+------------+\n",
      "|sum(is_null)|\n",
      "+------------+\n",
      "|           0|\n",
      "+------------+\n",
      "\n"
     ]
    }
   ],
   "source": [
    "(\n",
    "    df.select(df.source_id.isNull().cast('int').alias('is_null'))\n",
    "    .agg(sum('is_null'))\n",
    "    .show()\n",
    ")"
   ]
  },
  {
   "cell_type": "code",
   "execution_count": 42,
   "metadata": {},
   "outputs": [
    {
     "name": "stdout",
     "output_type": "stream",
     "text": [
      "(0 rows)\n",
      "\n"
     ]
    }
   ],
   "source": [
    "df.filter(col('source_id').isNull()).show(vertical=True)"
   ]
  },
  {
   "cell_type": "markdown",
   "metadata": {},
   "source": [
    "### 9. What are the top 10 service request types in terms of number of requests?"
   ]
  },
  {
   "cell_type": "code",
   "execution_count": 43,
   "metadata": {},
   "outputs": [
    {
     "name": "stdout",
     "output_type": "stream",
     "text": [
      "+--------------------------------+-----+\n",
      "|service_request_type            |count|\n",
      "+--------------------------------+-----+\n",
      "|No Pickup                       |89210|\n",
      "|Overgrown Yard/Trash            |66403|\n",
      "|Bandit Signs                    |32968|\n",
      "|Damaged Cart                    |31163|\n",
      "|Front Or Side Yard Parking      |28920|\n",
      "|Stray Animal                    |27361|\n",
      "|Aggressive Animal(Non-Critical) |25492|\n",
      "|Cart Exchange Request           |22608|\n",
      "|Junk Vehicle On Private Property|21649|\n",
      "|Pot Hole Repair                 |20827|\n",
      "+--------------------------------+-----+\n",
      "only showing top 10 rows\n",
      "\n"
     ]
    }
   ],
   "source": [
    "(\n",
    "    df.groupby('service_request_type')\n",
    "    .count()\n",
    "    .sort(col('count').desc())\n",
    "    .show(10, truncate=False)\n",
    ")"
   ]
  },
  {
   "cell_type": "markdown",
   "metadata": {},
   "source": [
    "### 10. What are the top 10 service request types in terms of average days late?"
   ]
  },
  {
   "cell_type": "code",
   "execution_count": 44,
   "metadata": {
    "scrolled": true
   },
   "outputs": [
    {
     "name": "stdout",
     "output_type": "stream",
     "text": [
      "+--------------------------------------+------------------+-------+\n",
      "|service_request_type                  |n_days_late       |n_cases|\n",
      "+--------------------------------------+------------------+-------+\n",
      "|Zoning: Recycle Yard                  |210.89201994318182|132    |\n",
      "|Zoning: Junk Yards                    |200.2051760849428 |262    |\n",
      "|Structure/Housing Maintenance         |190.20707698509807|51     |\n",
      "|Donation Container Enforcement        |171.09115313942615|122    |\n",
      "|Storage of Used Mattress              |163.96812829714287|7      |\n",
      "|Labeling for Used Mattress            |162.43032902285717|7      |\n",
      "|Record Keeping of Used Mattresses     |153.99724039428568|7      |\n",
      "|Signage Requied for Sale of Used Mattr|151.63868055333333|12     |\n",
      "|Traffic Signal Graffiti               |137.64583330000002|4      |\n",
      "|License Requied Used Mattress Sales   |128.79828704142858|7      |\n",
      "+--------------------------------------+------------------+-------+\n",
      "only showing top 10 rows\n",
      "\n"
     ]
    }
   ],
   "source": [
    "(\n",
    "    df.where('case_late') # just the rows where case_late == true\n",
    "    .groupBy('service_request_type')\n",
    "    .agg(mean('num_days_late').alias('n_days_late'), count('*').alias('n_cases'))\n",
    "    .sort(desc('n_days_late'))\n",
    "    .show(10, truncate=False)\n",
    ")"
   ]
  },
  {
   "cell_type": "markdown",
   "metadata": {},
   "source": [
    "### 11. Does number of days late depend on department?"
   ]
  },
  {
   "cell_type": "code",
   "execution_count": 45,
   "metadata": {
    "scrolled": true
   },
   "outputs": [
    {
     "name": "stdout",
     "output_type": "stream",
     "text": [
      "+-------------------------+---------+------------+\n",
      "|dept_name                |days_late|n_cases_late|\n",
      "+-------------------------+---------+------------+\n",
      "|Metro Health             |6.5      |854         |\n",
      "|Solid Waste Management   |7.1      |33729       |\n",
      "|Trans & Cap Improvements |10.7     |5529        |\n",
      "|Parks and Recreation     |22.4     |3810        |\n",
      "|Animal Care Services     |23.4     |23751       |\n",
      "|Code Enforcement Services|48.1     |25467       |\n",
      "|Development Services     |67.2     |840         |\n",
      "|Customer Service         |88.2     |2035        |\n",
      "|null                     |210.9    |132         |\n",
      "+-------------------------+---------+------------+\n",
      "\n"
     ]
    }
   ],
   "source": [
    "(\n",
    "    df.filter('case_late')\n",
    "    .groupby('dept_name')\n",
    "    .agg(mean('num_days_late').alias('days_late'), count('num_days_late').alias('n_cases_late'))\n",
    "    .sort('days_late')\n",
    "    .withColumn('days_late', round(col('days_late'), 1))\n",
    "    .show(truncate=False)\n",
    ")"
   ]
  },
  {
   "cell_type": "code",
   "execution_count": 46,
   "metadata": {},
   "outputs": [
    {
     "name": "stdout",
     "output_type": "stream",
     "text": [
      "+-------------------------+------+\n",
      "|dept_name                |count |\n",
      "+-------------------------+------+\n",
      "|Animal Care Services     |119362|\n",
      "|null                     |198   |\n",
      "|Solid Waste Management   |286287|\n",
      "|Development Services     |1397  |\n",
      "|Trans & Cap Improvements |97841 |\n",
      "|Customer Service         |2889  |\n",
      "|Metro Health             |5313  |\n",
      "|Parks and Recreation     |19964 |\n",
      "|Code Enforcement Services|321984|\n",
      "|City Council             |34    |\n",
      "+-------------------------+------+\n",
      "\n"
     ]
    }
   ],
   "source": [
    "df.groupby('dept_name').count().show(truncate=False)"
   ]
  },
  {
   "cell_type": "markdown",
   "metadata": {},
   "source": [
    "### 12. How do number of days late depend on department and request type?"
   ]
  },
  {
   "cell_type": "code",
   "execution_count": 47,
   "metadata": {},
   "outputs": [
    {
     "name": "stdout",
     "output_type": "stream",
     "text": [
      "+------------------------+-----------------------------------------------+---------+-------+\n",
      "|standardized_dept_name  |service_request_type                           |days_late|n_cases|\n",
      "+------------------------+-----------------------------------------------+---------+-------+\n",
      "|Animal Care Services    |Injured Animal(Critical)                       |0.1      |578    |\n",
      "|Animal Care Services    |Officer Standby                                |0.1      |97     |\n",
      "|Trans & Cap Improvements|Sign Installations SMO (NEW)                   |0.1      |1      |\n",
      "|Trans & Cap Improvements|Tree Fallen                                    |0.1      |8      |\n",
      "|Trans & Cap Improvements|Herbicide - Grass in curb or street            |0.1      |1      |\n",
      "|Solid Waste             |Additional Organics Cart Request               |0.2      |3      |\n",
      "|Solid Waste             |Brush No Notice                                |0.2      |2      |\n",
      "|Animal Care Services    |Animal Cruelty(Critical)                       |0.2      |389    |\n",
      "|DSD/Code Enforcement    |Graffiti: Traffic Signal Pole                  |0.2      |3      |\n",
      "|Solid Waste             |Lost / Stolen Organics Cart                    |0.2      |2      |\n",
      "|Animal Care Services    |Animal Bite(Critical)                          |0.2      |217    |\n",
      "|Trans & Cap Improvements|Road Curvature/Visual Obstruction              |0.2      |3      |\n",
      "|Trans & Cap Improvements|Street Debris                                  |0.3      |10     |\n",
      "|Solid Waste             |Cart removed from Service                      |0.3      |5      |\n",
      "|Trans & Cap Improvements|Flashing Beacon New Request                    |0.3      |1      |\n",
      "|Trans & Cap Improvements|Barricade                                      |0.4      |8      |\n",
      "|Trans & Cap Improvements|Tree- Visual Obstruction                       |0.4      |10     |\n",
      "|Trans & Cap Improvements|Vegetation- Visual Obstruction                 |0.5      |12     |\n",
      "|Trans & Cap Improvements|Drainage Channel - Emergency                   |0.5      |15     |\n",
      "|Trans & Cap Improvements|Street Sweeping- Emergency                     |0.5      |26     |\n",
      "|Trans & Cap Improvements|Visual Obstruction Vegetation Signal           |0.6      |4      |\n",
      "|Trans & Cap Improvements|Traffic Sign Visual Obst.Vegetation/Other Signs|0.6      |27     |\n",
      "|Solid Waste             |Garbage Out of Cycle Collection                |0.6      |63     |\n",
      "|Parks & Recreation      |Playgrounds                                    |0.7      |35     |\n",
      "|Trans & Cap Improvements|Removal Of Obstruction                         |0.7      |28     |\n",
      "|Trans & Cap Improvements|Manhole or Inlet Cover Missing                 |0.7      |13     |\n",
      "|Trans & Cap Improvements|Rebarb Sticking Out                            |0.7      |8      |\n",
      "|Trans & Cap Improvements|Misc Sign - New Request                        |0.7      |19     |\n",
      "|Solid Waste             |Recycling - Scattered Material                 |0.8      |2      |\n",
      "|Trans & Cap Improvements|Pot Hole Repair                                |0.8      |1099   |\n",
      "|Animal Care Services    |Trapped/Confined Animal                        |0.8      |5806   |\n",
      "|Trans & Cap Improvements|Stop/Yield Sign Down/Missing/Faded             |0.8      |299    |\n",
      "|Solid Waste             |Organics Cart Delivery                         |0.8      |174    |\n",
      "|Trans & Cap Improvements|Drainage Channel - Surface Investigation       |0.9      |19     |\n",
      "|Parks & Recreation      |Ballfields                                     |0.9      |32     |\n",
      "|Trans & Cap Improvements|Drainage Channel Restoration                   |0.9      |9      |\n",
      "|Trans & Cap Improvements|Traffic Signal Ops and Maintenance - Emergency |1.0      |22     |\n",
      "|Solid Waste             |Additional Cart Request                        |1.0      |444    |\n",
      "|Trans & Cap Improvements|Drainage Inlet - Cleaning/Foul Odor            |1.0      |2      |\n",
      "|Solid Waste             |Brush - Out of Cycle Collection - Fee Required |1.0      |985    |\n",
      "+------------------------+-----------------------------------------------+---------+-------+\n",
      "only showing top 40 rows\n",
      "\n"
     ]
    }
   ],
   "source": [
    "(\n",
    "    df.filter(\"case_closed\")\n",
    "     .filter(\"case_late\")\n",
    "    .groupby(\"standardized_dept_name\", \"service_request_type\")\n",
    "    .agg(avg(\"num_days_late\").alias(\"days_late\"), count(\"*\").alias(\"n_cases\"))\n",
    "    .withColumn(\"days_late\", round(col(\"days_late\"), 1))\n",
    "    .sort(asc(\"days_late\"))\n",
    "    .show(40, truncate=False)\n",
    ")"
   ]
  },
  {
   "cell_type": "code",
   "execution_count": 48,
   "metadata": {},
   "outputs": [
    {
     "name": "stdout",
     "output_type": "stream",
     "text": [
      "+-------------------+-------------------+-------------------+---------------+\n",
      "|   case_opened_date|      case_due_date|   case_closed_date|days_to_resolve|\n",
      "+-------------------+-------------------+-------------------+---------------+\n",
      "|2018-01-01 00:42:00|2020-09-26 00:42:00|2018-01-01 12:29:00|            999|\n",
      "|2018-01-01 08:39:00|2020-09-26 08:39:00|2018-01-01 12:30:00|            999|\n",
      "|2018-01-01 09:51:00|2020-09-26 09:51:00|2018-01-01 11:53:00|            999|\n",
      "|2018-01-01 10:39:00|2020-09-26 10:39:00|2018-01-01 12:29:00|            999|\n",
      "|2018-01-01 10:44:00|2020-09-26 10:44:00|2018-01-01 12:43:00|            999|\n",
      "|2018-01-01 10:52:00|2020-09-26 10:52:00|2018-01-01 11:53:00|            999|\n",
      "|2018-01-01 11:11:00|2020-09-26 11:11:00|2018-01-01 11:53:00|            999|\n",
      "|2018-01-01 11:46:00|2020-09-26 11:46:00|2018-01-01 12:26:00|            999|\n",
      "|2018-01-01 11:58:00|2020-09-26 11:58:00|2018-01-01 12:26:00|            999|\n",
      "|2018-01-01 12:28:00|2020-09-26 12:28:00|2018-01-01 12:44:00|            999|\n",
      "|2018-01-01 12:33:00|2020-09-26 12:33:00|2018-01-01 13:50:00|            999|\n",
      "|2018-01-01 12:33:00|2020-09-26 12:33:00|2018-01-01 12:43:00|            999|\n",
      "|2018-01-01 12:42:00|2020-09-26 12:42:00|2018-01-01 12:48:00|            999|\n",
      "|2018-01-01 13:04:00|2020-09-26 13:04:00|2018-01-01 13:07:00|            999|\n",
      "|2018-01-01 13:05:00|2020-09-26 13:05:00|2018-01-01 19:59:00|            999|\n",
      "|2018-01-01 13:12:00|2020-09-26 13:12:00|2018-01-01 13:15:00|            999|\n",
      "|2018-01-01 13:16:00|2020-09-26 13:16:00|2018-01-03 05:46:00|            999|\n",
      "|2018-01-01 13:47:00|2020-09-26 13:47:00|2018-01-01 13:53:00|            999|\n",
      "|2018-01-01 14:19:00|2020-09-26 14:19:00|2018-01-01 15:06:00|            999|\n",
      "|2018-01-01 15:20:00|2020-09-26 15:20:00|2018-01-02 18:26:00|            999|\n",
      "+-------------------+-------------------+-------------------+---------------+\n",
      "only showing top 20 rows\n",
      "\n"
     ]
    }
   ],
   "source": [
    "(\n",
    "    df.filter(col(\"service_request_type\") == \"Stray Animal\")\n",
    "    .select(\"case_opened_date\", \"case_due_date\", \"case_closed_date\")\n",
    "    .withColumn(\"days_to_resolve\", datediff(\"case_due_date\", \"case_opened_date\"))\n",
    "    .show()\n",
    ")"
   ]
  },
  {
   "cell_type": "code",
   "execution_count": null,
   "metadata": {},
   "outputs": [],
   "source": []
  }
 ],
 "metadata": {
  "kernelspec": {
   "display_name": "Python 3",
   "language": "python",
   "name": "python3"
  },
  "language_info": {
   "codemirror_mode": {
    "name": "ipython",
    "version": 3
   },
   "file_extension": ".py",
   "mimetype": "text/x-python",
   "name": "python",
   "nbconvert_exporter": "python",
   "pygments_lexer": "ipython3",
   "version": "3.7.6"
  }
 },
 "nbformat": 4,
 "nbformat_minor": 4
}
